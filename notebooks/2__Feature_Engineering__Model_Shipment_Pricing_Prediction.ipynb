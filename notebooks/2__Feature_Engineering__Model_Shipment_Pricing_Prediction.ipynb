{
  "cells": [
    {
      "cell_type": "markdown",
      "id": "ab3c7d40",
      "metadata": {
        "id": "ab3c7d40"
      },
      "source": [
        "# Data Pre-Processing"
      ]
    },
    {
      "cell_type": "markdown",
      "id": "5b6a19ba",
      "metadata": {
        "id": "5b6a19ba"
      },
      "source": [
        "#### Import Packages and CSV"
      ]
    },
    {
      "cell_type": "code",
      "execution_count": 43,
      "id": "8a8dc9f3",
      "metadata": {
        "id": "8a8dc9f3"
      },
      "outputs": [],
      "source": [
        "import pandas as pd\n",
        "import matplotlib.pyplot as plt\n",
        "import seaborn as sns\n",
        "import numpy as np\n",
        "\n",
        "import warnings\n",
        "warnings.filterwarnings(\"ignore\")\n",
        "pd.pandas.set_option(\"display.max_columns\", None)"
      ]
    },
    {
      "cell_type": "code",
      "execution_count": 44,
      "id": "e960796e",
      "metadata": {
        "colab": {
          "base_uri": "https://localhost:8080/",
          "height": 365
        },
        "id": "e960796e",
        "outputId": "09390c1a-9ea4-4e62-9f65-83fe064a66f0"
      },
      "outputs": [
        {
          "output_type": "execute_result",
          "data": {
            "text/plain": [
              "            Customer Id     Artist Name  Artist Reputation  Height  Width  \\\n",
              "0  fffe3900350033003300   Billy Jenkins               0.26    17.0    6.0   \n",
              "1  fffe3800330031003900     Jean Bryant               0.28     3.0    3.0   \n",
              "2  fffe3600370035003100    Laura Miller               0.07     8.0    5.0   \n",
              "3      fffe350031003300  Robert Chaires               0.12     9.0    NaN   \n",
              "4  fffe3900320038003400    Rosalyn Krol               0.15    17.0    6.0   \n",
              "\n",
              "   Weight   Material  Price Of Sculpture  Base Shipping Price International  \\\n",
              "0  4128.0      Brass               13.91                16.27           Yes   \n",
              "1    61.0      Brass                6.83                15.00            No   \n",
              "2   237.0       Clay                4.96                21.18            No   \n",
              "3     NaN  Aluminium                5.81                16.31            No   \n",
              "4   324.0  Aluminium                3.18                11.94           Yes   \n",
              "\n",
              "  Express Shipment Installation Included Transport Fragile  \\\n",
              "0              Yes                    No   Airways      No   \n",
              "1               No                    No  Roadways      No   \n",
              "2               No                    No  Roadways     Yes   \n",
              "3               No                    No       NaN      No   \n",
              "4              Yes                   Yes   Airways      No   \n",
              "\n",
              "  Customer Information Remote Location Scheduled Date Delivery Date  \\\n",
              "0        Working Class              No       06/07/15      06/03/15   \n",
              "1        Working Class              No       03/06/17      03/05/17   \n",
              "2        Working Class             Yes       03/09/15      03/08/15   \n",
              "3              Wealthy             Yes       05/24/15      05/20/15   \n",
              "4        Working Class              No       12/18/16      12/14/16   \n",
              "\n",
              "           Customer Location    Cost  \n",
              "0     New Michelle, OH 50777 -283.29  \n",
              "1  New Michaelport, WY 12072 -159.96  \n",
              "2      Bowmanshire, WA 19241 -154.29  \n",
              "3       East Robyn, KY 86375 -161.16  \n",
              "4        Aprilside, PA 52793 -159.23  "
            ],
            "text/html": [
              "\n",
              "  <div id=\"df-99c717d6-3ae4-4479-9896-aee0bf970cfe\" class=\"colab-df-container\">\n",
              "    <div>\n",
              "<style scoped>\n",
              "    .dataframe tbody tr th:only-of-type {\n",
              "        vertical-align: middle;\n",
              "    }\n",
              "\n",
              "    .dataframe tbody tr th {\n",
              "        vertical-align: top;\n",
              "    }\n",
              "\n",
              "    .dataframe thead th {\n",
              "        text-align: right;\n",
              "    }\n",
              "</style>\n",
              "<table border=\"1\" class=\"dataframe\">\n",
              "  <thead>\n",
              "    <tr style=\"text-align: right;\">\n",
              "      <th></th>\n",
              "      <th>Customer Id</th>\n",
              "      <th>Artist Name</th>\n",
              "      <th>Artist Reputation</th>\n",
              "      <th>Height</th>\n",
              "      <th>Width</th>\n",
              "      <th>Weight</th>\n",
              "      <th>Material</th>\n",
              "      <th>Price Of Sculpture</th>\n",
              "      <th>Base Shipping Price</th>\n",
              "      <th>International</th>\n",
              "      <th>Express Shipment</th>\n",
              "      <th>Installation Included</th>\n",
              "      <th>Transport</th>\n",
              "      <th>Fragile</th>\n",
              "      <th>Customer Information</th>\n",
              "      <th>Remote Location</th>\n",
              "      <th>Scheduled Date</th>\n",
              "      <th>Delivery Date</th>\n",
              "      <th>Customer Location</th>\n",
              "      <th>Cost</th>\n",
              "    </tr>\n",
              "  </thead>\n",
              "  <tbody>\n",
              "    <tr>\n",
              "      <th>0</th>\n",
              "      <td>fffe3900350033003300</td>\n",
              "      <td>Billy Jenkins</td>\n",
              "      <td>0.26</td>\n",
              "      <td>17.0</td>\n",
              "      <td>6.0</td>\n",
              "      <td>4128.0</td>\n",
              "      <td>Brass</td>\n",
              "      <td>13.91</td>\n",
              "      <td>16.27</td>\n",
              "      <td>Yes</td>\n",
              "      <td>Yes</td>\n",
              "      <td>No</td>\n",
              "      <td>Airways</td>\n",
              "      <td>No</td>\n",
              "      <td>Working Class</td>\n",
              "      <td>No</td>\n",
              "      <td>06/07/15</td>\n",
              "      <td>06/03/15</td>\n",
              "      <td>New Michelle, OH 50777</td>\n",
              "      <td>-283.29</td>\n",
              "    </tr>\n",
              "    <tr>\n",
              "      <th>1</th>\n",
              "      <td>fffe3800330031003900</td>\n",
              "      <td>Jean Bryant</td>\n",
              "      <td>0.28</td>\n",
              "      <td>3.0</td>\n",
              "      <td>3.0</td>\n",
              "      <td>61.0</td>\n",
              "      <td>Brass</td>\n",
              "      <td>6.83</td>\n",
              "      <td>15.00</td>\n",
              "      <td>No</td>\n",
              "      <td>No</td>\n",
              "      <td>No</td>\n",
              "      <td>Roadways</td>\n",
              "      <td>No</td>\n",
              "      <td>Working Class</td>\n",
              "      <td>No</td>\n",
              "      <td>03/06/17</td>\n",
              "      <td>03/05/17</td>\n",
              "      <td>New Michaelport, WY 12072</td>\n",
              "      <td>-159.96</td>\n",
              "    </tr>\n",
              "    <tr>\n",
              "      <th>2</th>\n",
              "      <td>fffe3600370035003100</td>\n",
              "      <td>Laura Miller</td>\n",
              "      <td>0.07</td>\n",
              "      <td>8.0</td>\n",
              "      <td>5.0</td>\n",
              "      <td>237.0</td>\n",
              "      <td>Clay</td>\n",
              "      <td>4.96</td>\n",
              "      <td>21.18</td>\n",
              "      <td>No</td>\n",
              "      <td>No</td>\n",
              "      <td>No</td>\n",
              "      <td>Roadways</td>\n",
              "      <td>Yes</td>\n",
              "      <td>Working Class</td>\n",
              "      <td>Yes</td>\n",
              "      <td>03/09/15</td>\n",
              "      <td>03/08/15</td>\n",
              "      <td>Bowmanshire, WA 19241</td>\n",
              "      <td>-154.29</td>\n",
              "    </tr>\n",
              "    <tr>\n",
              "      <th>3</th>\n",
              "      <td>fffe350031003300</td>\n",
              "      <td>Robert Chaires</td>\n",
              "      <td>0.12</td>\n",
              "      <td>9.0</td>\n",
              "      <td>NaN</td>\n",
              "      <td>NaN</td>\n",
              "      <td>Aluminium</td>\n",
              "      <td>5.81</td>\n",
              "      <td>16.31</td>\n",
              "      <td>No</td>\n",
              "      <td>No</td>\n",
              "      <td>No</td>\n",
              "      <td>NaN</td>\n",
              "      <td>No</td>\n",
              "      <td>Wealthy</td>\n",
              "      <td>Yes</td>\n",
              "      <td>05/24/15</td>\n",
              "      <td>05/20/15</td>\n",
              "      <td>East Robyn, KY 86375</td>\n",
              "      <td>-161.16</td>\n",
              "    </tr>\n",
              "    <tr>\n",
              "      <th>4</th>\n",
              "      <td>fffe3900320038003400</td>\n",
              "      <td>Rosalyn Krol</td>\n",
              "      <td>0.15</td>\n",
              "      <td>17.0</td>\n",
              "      <td>6.0</td>\n",
              "      <td>324.0</td>\n",
              "      <td>Aluminium</td>\n",
              "      <td>3.18</td>\n",
              "      <td>11.94</td>\n",
              "      <td>Yes</td>\n",
              "      <td>Yes</td>\n",
              "      <td>Yes</td>\n",
              "      <td>Airways</td>\n",
              "      <td>No</td>\n",
              "      <td>Working Class</td>\n",
              "      <td>No</td>\n",
              "      <td>12/18/16</td>\n",
              "      <td>12/14/16</td>\n",
              "      <td>Aprilside, PA 52793</td>\n",
              "      <td>-159.23</td>\n",
              "    </tr>\n",
              "  </tbody>\n",
              "</table>\n",
              "</div>\n",
              "    <div class=\"colab-df-buttons\">\n",
              "\n",
              "  <div class=\"colab-df-container\">\n",
              "    <button class=\"colab-df-convert\" onclick=\"convertToInteractive('df-99c717d6-3ae4-4479-9896-aee0bf970cfe')\"\n",
              "            title=\"Convert this dataframe to an interactive table.\"\n",
              "            style=\"display:none;\">\n",
              "\n",
              "  <svg xmlns=\"http://www.w3.org/2000/svg\" height=\"24px\" viewBox=\"0 -960 960 960\">\n",
              "    <path d=\"M120-120v-720h720v720H120Zm60-500h600v-160H180v160Zm220 220h160v-160H400v160Zm0 220h160v-160H400v160ZM180-400h160v-160H180v160Zm440 0h160v-160H620v160ZM180-180h160v-160H180v160Zm440 0h160v-160H620v160Z\"/>\n",
              "  </svg>\n",
              "    </button>\n",
              "\n",
              "  <style>\n",
              "    .colab-df-container {\n",
              "      display:flex;\n",
              "      gap: 12px;\n",
              "    }\n",
              "\n",
              "    .colab-df-convert {\n",
              "      background-color: #E8F0FE;\n",
              "      border: none;\n",
              "      border-radius: 50%;\n",
              "      cursor: pointer;\n",
              "      display: none;\n",
              "      fill: #1967D2;\n",
              "      height: 32px;\n",
              "      padding: 0 0 0 0;\n",
              "      width: 32px;\n",
              "    }\n",
              "\n",
              "    .colab-df-convert:hover {\n",
              "      background-color: #E2EBFA;\n",
              "      box-shadow: 0px 1px 2px rgba(60, 64, 67, 0.3), 0px 1px 3px 1px rgba(60, 64, 67, 0.15);\n",
              "      fill: #174EA6;\n",
              "    }\n",
              "\n",
              "    .colab-df-buttons div {\n",
              "      margin-bottom: 4px;\n",
              "    }\n",
              "\n",
              "    [theme=dark] .colab-df-convert {\n",
              "      background-color: #3B4455;\n",
              "      fill: #D2E3FC;\n",
              "    }\n",
              "\n",
              "    [theme=dark] .colab-df-convert:hover {\n",
              "      background-color: #434B5C;\n",
              "      box-shadow: 0px 1px 3px 1px rgba(0, 0, 0, 0.15);\n",
              "      filter: drop-shadow(0px 1px 2px rgba(0, 0, 0, 0.3));\n",
              "      fill: #FFFFFF;\n",
              "    }\n",
              "  </style>\n",
              "\n",
              "    <script>\n",
              "      const buttonEl =\n",
              "        document.querySelector('#df-99c717d6-3ae4-4479-9896-aee0bf970cfe button.colab-df-convert');\n",
              "      buttonEl.style.display =\n",
              "        google.colab.kernel.accessAllowed ? 'block' : 'none';\n",
              "\n",
              "      async function convertToInteractive(key) {\n",
              "        const element = document.querySelector('#df-99c717d6-3ae4-4479-9896-aee0bf970cfe');\n",
              "        const dataTable =\n",
              "          await google.colab.kernel.invokeFunction('convertToInteractive',\n",
              "                                                    [key], {});\n",
              "        if (!dataTable) return;\n",
              "\n",
              "        const docLinkHtml = 'Like what you see? Visit the ' +\n",
              "          '<a target=\"_blank\" href=https://colab.research.google.com/notebooks/data_table.ipynb>data table notebook</a>'\n",
              "          + ' to learn more about interactive tables.';\n",
              "        element.innerHTML = '';\n",
              "        dataTable['output_type'] = 'display_data';\n",
              "        await google.colab.output.renderOutput(dataTable, element);\n",
              "        const docLink = document.createElement('div');\n",
              "        docLink.innerHTML = docLinkHtml;\n",
              "        element.appendChild(docLink);\n",
              "      }\n",
              "    </script>\n",
              "  </div>\n",
              "\n",
              "\n",
              "<div id=\"df-b485b3bf-2780-404d-9f14-3c9bd0d95ac9\">\n",
              "  <button class=\"colab-df-quickchart\" onclick=\"quickchart('df-b485b3bf-2780-404d-9f14-3c9bd0d95ac9')\"\n",
              "            title=\"Suggest charts\"\n",
              "            style=\"display:none;\">\n",
              "\n",
              "<svg xmlns=\"http://www.w3.org/2000/svg\" height=\"24px\"viewBox=\"0 0 24 24\"\n",
              "     width=\"24px\">\n",
              "    <g>\n",
              "        <path d=\"M19 3H5c-1.1 0-2 .9-2 2v14c0 1.1.9 2 2 2h14c1.1 0 2-.9 2-2V5c0-1.1-.9-2-2-2zM9 17H7v-7h2v7zm4 0h-2V7h2v10zm4 0h-2v-4h2v4z\"/>\n",
              "    </g>\n",
              "</svg>\n",
              "  </button>\n",
              "\n",
              "<style>\n",
              "  .colab-df-quickchart {\n",
              "      --bg-color: #E8F0FE;\n",
              "      --fill-color: #1967D2;\n",
              "      --hover-bg-color: #E2EBFA;\n",
              "      --hover-fill-color: #174EA6;\n",
              "      --disabled-fill-color: #AAA;\n",
              "      --disabled-bg-color: #DDD;\n",
              "  }\n",
              "\n",
              "  [theme=dark] .colab-df-quickchart {\n",
              "      --bg-color: #3B4455;\n",
              "      --fill-color: #D2E3FC;\n",
              "      --hover-bg-color: #434B5C;\n",
              "      --hover-fill-color: #FFFFFF;\n",
              "      --disabled-bg-color: #3B4455;\n",
              "      --disabled-fill-color: #666;\n",
              "  }\n",
              "\n",
              "  .colab-df-quickchart {\n",
              "    background-color: var(--bg-color);\n",
              "    border: none;\n",
              "    border-radius: 50%;\n",
              "    cursor: pointer;\n",
              "    display: none;\n",
              "    fill: var(--fill-color);\n",
              "    height: 32px;\n",
              "    padding: 0;\n",
              "    width: 32px;\n",
              "  }\n",
              "\n",
              "  .colab-df-quickchart:hover {\n",
              "    background-color: var(--hover-bg-color);\n",
              "    box-shadow: 0 1px 2px rgba(60, 64, 67, 0.3), 0 1px 3px 1px rgba(60, 64, 67, 0.15);\n",
              "    fill: var(--button-hover-fill-color);\n",
              "  }\n",
              "\n",
              "  .colab-df-quickchart-complete:disabled,\n",
              "  .colab-df-quickchart-complete:disabled:hover {\n",
              "    background-color: var(--disabled-bg-color);\n",
              "    fill: var(--disabled-fill-color);\n",
              "    box-shadow: none;\n",
              "  }\n",
              "\n",
              "  .colab-df-spinner {\n",
              "    border: 2px solid var(--fill-color);\n",
              "    border-color: transparent;\n",
              "    border-bottom-color: var(--fill-color);\n",
              "    animation:\n",
              "      spin 1s steps(1) infinite;\n",
              "  }\n",
              "\n",
              "  @keyframes spin {\n",
              "    0% {\n",
              "      border-color: transparent;\n",
              "      border-bottom-color: var(--fill-color);\n",
              "      border-left-color: var(--fill-color);\n",
              "    }\n",
              "    20% {\n",
              "      border-color: transparent;\n",
              "      border-left-color: var(--fill-color);\n",
              "      border-top-color: var(--fill-color);\n",
              "    }\n",
              "    30% {\n",
              "      border-color: transparent;\n",
              "      border-left-color: var(--fill-color);\n",
              "      border-top-color: var(--fill-color);\n",
              "      border-right-color: var(--fill-color);\n",
              "    }\n",
              "    40% {\n",
              "      border-color: transparent;\n",
              "      border-right-color: var(--fill-color);\n",
              "      border-top-color: var(--fill-color);\n",
              "    }\n",
              "    60% {\n",
              "      border-color: transparent;\n",
              "      border-right-color: var(--fill-color);\n",
              "    }\n",
              "    80% {\n",
              "      border-color: transparent;\n",
              "      border-right-color: var(--fill-color);\n",
              "      border-bottom-color: var(--fill-color);\n",
              "    }\n",
              "    90% {\n",
              "      border-color: transparent;\n",
              "      border-bottom-color: var(--fill-color);\n",
              "    }\n",
              "  }\n",
              "</style>\n",
              "\n",
              "  <script>\n",
              "    async function quickchart(key) {\n",
              "      const quickchartButtonEl =\n",
              "        document.querySelector('#' + key + ' button');\n",
              "      quickchartButtonEl.disabled = true;  // To prevent multiple clicks.\n",
              "      quickchartButtonEl.classList.add('colab-df-spinner');\n",
              "      try {\n",
              "        const charts = await google.colab.kernel.invokeFunction(\n",
              "            'suggestCharts', [key], {});\n",
              "      } catch (error) {\n",
              "        console.error('Error during call to suggestCharts:', error);\n",
              "      }\n",
              "      quickchartButtonEl.classList.remove('colab-df-spinner');\n",
              "      quickchartButtonEl.classList.add('colab-df-quickchart-complete');\n",
              "    }\n",
              "    (() => {\n",
              "      let quickchartButtonEl =\n",
              "        document.querySelector('#df-b485b3bf-2780-404d-9f14-3c9bd0d95ac9 button');\n",
              "      quickchartButtonEl.style.display =\n",
              "        google.colab.kernel.accessAllowed ? 'block' : 'none';\n",
              "    })();\n",
              "  </script>\n",
              "</div>\n",
              "\n",
              "    </div>\n",
              "  </div>\n"
            ],
            "application/vnd.google.colaboratory.intrinsic+json": {
              "type": "dataframe",
              "variable_name": "df",
              "summary": "{\n  \"name\": \"df\",\n  \"rows\": 6500,\n  \"fields\": [\n    {\n      \"column\": \"Customer Id\",\n      \"properties\": {\n        \"dtype\": \"string\",\n        \"num_unique_values\": 6500,\n        \"samples\": [\n          \"fffe3400350035003700\",\n          \"fffe3300390032003500\",\n          \"fffe3200360038003600\"\n        ],\n        \"semantic_type\": \"\",\n        \"description\": \"\"\n      }\n    },\n    {\n      \"column\": \"Artist Name\",\n      \"properties\": {\n        \"dtype\": \"string\",\n        \"num_unique_values\": 6449,\n        \"samples\": [\n          \"Maria Tingle\",\n          \"Rosie Telschow\",\n          \"Jo White\"\n        ],\n        \"semantic_type\": \"\",\n        \"description\": \"\"\n      }\n    },\n    {\n      \"column\": \"Artist Reputation\",\n      \"properties\": {\n        \"dtype\": \"number\",\n        \"std\": 0.2657811296284417,\n        \"min\": 0.0,\n        \"max\": 1.0,\n        \"num_unique_values\": 101,\n        \"samples\": [\n          0.63,\n          0.03,\n          0.62\n        ],\n        \"semantic_type\": \"\",\n        \"description\": \"\"\n      }\n    },\n    {\n      \"column\": \"Height\",\n      \"properties\": {\n        \"dtype\": \"number\",\n        \"std\": 11.96819214259745,\n        \"min\": 3.0,\n        \"max\": 73.0,\n        \"num_unique_values\": 65,\n        \"samples\": [\n          52.0,\n          60.0,\n          17.0\n        ],\n        \"semantic_type\": \"\",\n        \"description\": \"\"\n      }\n    },\n    {\n      \"column\": \"Width\",\n      \"properties\": {\n        \"dtype\": \"number\",\n        \"std\": 5.417000221775491,\n        \"min\": 2.0,\n        \"max\": 50.0,\n        \"num_unique_values\": 40,\n        \"samples\": [\n          20.0,\n          21.0,\n          13.0\n        ],\n        \"semantic_type\": \"\",\n        \"description\": \"\"\n      }\n    },\n    {\n      \"column\": \"Weight\",\n      \"properties\": {\n        \"dtype\": \"number\",\n        \"std\": 2678081.227562182,\n        \"min\": 3.0,\n        \"max\": 117927869.0,\n        \"num_unique_values\": 4410,\n        \"samples\": [\n          2193.0,\n          98291.0,\n          169582.0\n        ],\n        \"semantic_type\": \"\",\n        \"description\": \"\"\n      }\n    },\n    {\n      \"column\": \"Material\",\n      \"properties\": {\n        \"dtype\": \"category\",\n        \"num_unique_values\": 7,\n        \"samples\": [\n          \"Brass\",\n          \"Clay\",\n          \"Bronze\"\n        ],\n        \"semantic_type\": \"\",\n        \"description\": \"\"\n      }\n    },\n    {\n      \"column\": \"Price Of Sculpture\",\n      \"properties\": {\n        \"dtype\": \"number\",\n        \"std\": 8819.616750283894,\n        \"min\": 3.0,\n        \"max\": 382385.67,\n        \"num_unique_values\": 3424,\n        \"samples\": [\n          1061.66,\n          980.25,\n          1805.44\n        ],\n        \"semantic_type\": \"\",\n        \"description\": \"\"\n      }\n    },\n    {\n      \"column\": \"Base Shipping Price\",\n      \"properties\": {\n        \"dtype\": \"number\",\n        \"std\": 26.87351863133661,\n        \"min\": 10.0,\n        \"max\": 99.98,\n        \"num_unique_values\": 3732,\n        \"samples\": [\n          76.37,\n          87.65,\n          26.24\n        ],\n        \"semantic_type\": \"\",\n        \"description\": \"\"\n      }\n    },\n    {\n      \"column\": \"International\",\n      \"properties\": {\n        \"dtype\": \"category\",\n        \"num_unique_values\": 2,\n        \"samples\": [\n          \"No\",\n          \"Yes\"\n        ],\n        \"semantic_type\": \"\",\n        \"description\": \"\"\n      }\n    },\n    {\n      \"column\": \"Express Shipment\",\n      \"properties\": {\n        \"dtype\": \"category\",\n        \"num_unique_values\": 2,\n        \"samples\": [\n          \"No\",\n          \"Yes\"\n        ],\n        \"semantic_type\": \"\",\n        \"description\": \"\"\n      }\n    },\n    {\n      \"column\": \"Installation Included\",\n      \"properties\": {\n        \"dtype\": \"category\",\n        \"num_unique_values\": 2,\n        \"samples\": [\n          \"Yes\",\n          \"No\"\n        ],\n        \"semantic_type\": \"\",\n        \"description\": \"\"\n      }\n    },\n    {\n      \"column\": \"Transport\",\n      \"properties\": {\n        \"dtype\": \"category\",\n        \"num_unique_values\": 3,\n        \"samples\": [\n          \"Airways\",\n          \"Roadways\"\n        ],\n        \"semantic_type\": \"\",\n        \"description\": \"\"\n      }\n    },\n    {\n      \"column\": \"Fragile\",\n      \"properties\": {\n        \"dtype\": \"category\",\n        \"num_unique_values\": 2,\n        \"samples\": [\n          \"Yes\",\n          \"No\"\n        ],\n        \"semantic_type\": \"\",\n        \"description\": \"\"\n      }\n    },\n    {\n      \"column\": \"Customer Information\",\n      \"properties\": {\n        \"dtype\": \"category\",\n        \"num_unique_values\": 2,\n        \"samples\": [\n          \"Wealthy\",\n          \"Working Class\"\n        ],\n        \"semantic_type\": \"\",\n        \"description\": \"\"\n      }\n    },\n    {\n      \"column\": \"Remote Location\",\n      \"properties\": {\n        \"dtype\": \"category\",\n        \"num_unique_values\": 2,\n        \"samples\": [\n          \"Yes\",\n          \"No\"\n        ],\n        \"semantic_type\": \"\",\n        \"description\": \"\"\n      }\n    },\n    {\n      \"column\": \"Scheduled Date\",\n      \"properties\": {\n        \"dtype\": \"object\",\n        \"num_unique_values\": 1660,\n        \"samples\": [\n          \"02/02/18\",\n          \"02/22/18\"\n        ],\n        \"semantic_type\": \"\",\n        \"description\": \"\"\n      }\n    },\n    {\n      \"column\": \"Delivery Date\",\n      \"properties\": {\n        \"dtype\": \"object\",\n        \"num_unique_values\": 1664,\n        \"samples\": [\n          \"11/01/17\",\n          \"09/07/18\"\n        ],\n        \"semantic_type\": \"\",\n        \"description\": \"\"\n      }\n    },\n    {\n      \"column\": \"Customer Location\",\n      \"properties\": {\n        \"dtype\": \"string\",\n        \"num_unique_values\": 6500,\n        \"samples\": [\n          \"South Danielle, MN 11042\",\n          \"Natalieburgh, NY 41609\"\n        ],\n        \"semantic_type\": \"\",\n        \"description\": \"\"\n      }\n    },\n    {\n      \"column\": \"Cost\",\n      \"properties\": {\n        \"dtype\": \"number\",\n        \"std\": 240657.8684731682,\n        \"min\": -880172.65,\n        \"max\": 11143428.25,\n        \"num_unique_values\": 6356,\n        \"samples\": [\n          198.85,\n          588.1\n        ],\n        \"semantic_type\": \"\",\n        \"description\": \"\"\n      }\n    }\n  ]\n}"
            }
          },
          "metadata": {},
          "execution_count": 44
        }
      ],
      "source": [
        "df = pd.read_csv('data/shipment.csv')\n",
        "df.head()"
      ]
    },
    {
      "cell_type": "markdown",
      "id": "4a93ea0d",
      "metadata": {
        "id": "4a93ea0d"
      },
      "source": [
        "## Data Cleaning"
      ]
    },
    {
      "cell_type": "markdown",
      "id": "864f8f2f",
      "metadata": {
        "id": "864f8f2f"
      },
      "source": [
        "#### Check Null Values"
      ]
    },
    {
      "cell_type": "code",
      "execution_count": 45,
      "id": "cec234a6",
      "metadata": {
        "colab": {
          "base_uri": "https://localhost:8080/"
        },
        "id": "cec234a6",
        "outputId": "6190ca26-3f7c-4c69-9b04-16876dfe7d6d"
      },
      "outputs": [
        {
          "output_type": "execute_result",
          "data": {
            "text/plain": [
              "Index(['Customer Id', 'Artist Name', 'Artist Reputation', 'Height', 'Width',\n",
              "       'Weight', 'Material', 'Price Of Sculpture', 'Base Shipping Price',\n",
              "       'International', 'Express Shipment', 'Installation Included',\n",
              "       'Transport', 'Fragile', 'Customer Information', 'Remote Location',\n",
              "       'Scheduled Date', 'Delivery Date', 'Customer Location', 'Cost'],\n",
              "      dtype='object')"
            ]
          },
          "metadata": {},
          "execution_count": 45
        }
      ],
      "source": [
        "df.columns"
      ]
    },
    {
      "cell_type": "code",
      "execution_count": 46,
      "id": "7174859f",
      "metadata": {
        "colab": {
          "base_uri": "https://localhost:8080/"
        },
        "id": "7174859f",
        "outputId": "177e1399-86e4-4c75-9e41-a15f3930373e"
      },
      "outputs": [
        {
          "output_type": "stream",
          "name": "stdout",
          "text": [
            "Artist Reputation 11.53846 % missing values\n",
            "Height 5.76923 % missing values\n",
            "Width 8.98462 % missing values\n",
            "Weight 9.03077 % missing values\n",
            "Material 11.75385 % missing values\n",
            "Transport 21.41538 % missing values\n",
            "Remote Location 11.86154 % missing values\n"
          ]
        }
      ],
      "source": [
        "##these are the features with nan value\n",
        "features_with_na=[features for features in df.columns if df[features].isnull().sum()>=1]\n",
        "for feature in features_with_na:\n",
        "    print(feature,np.round(df[feature].isnull().mean()*100,5), '% missing values')"
      ]
    },
    {
      "cell_type": "markdown",
      "id": "9115f4cc",
      "metadata": {
        "id": "9115f4cc"
      },
      "source": [
        "**What does NaN mean?**\n",
        "\n",
        "**Ans:** Missing Values in a DataFrame\n",
        "\n",
        "**Why might a value be missing?**\n",
        "\n",
        "**Ans:** When considering the potential impact of the missing data on the Dataset, it is important to consider the underlying reasons for why the data are missing\n",
        "Missing data are of three categories:\n",
        "* Missing completely at random (MCAR)\n",
        "* Missing at random (MAR).\n",
        "* Missing not at random (MNAR).\n",
        "\n",
        "Here it is MCAR type of missing values in dataset which are Missing completely at Random.\n",
        "\n",
        "When we make this assumption, we are assuming the missing data is completely unrelated to the other information in the data."
      ]
    },
    {
      "cell_type": "markdown",
      "id": "002c0d1f",
      "metadata": {
        "id": "002c0d1f"
      },
      "source": [
        "#### Checking duplicated values\n"
      ]
    },
    {
      "cell_type": "code",
      "execution_count": 47,
      "id": "2b186b58",
      "metadata": {
        "colab": {
          "base_uri": "https://localhost:8080/"
        },
        "id": "2b186b58",
        "outputId": "5e20b2fb-99b8-43fa-e0e5-8ab51e87f80d"
      },
      "outputs": [
        {
          "output_type": "execute_result",
          "data": {
            "text/plain": [
              "0"
            ]
          },
          "metadata": {},
          "execution_count": 47
        }
      ],
      "source": [
        "df.duplicated().sum()"
      ]
    },
    {
      "cell_type": "markdown",
      "id": "8ecbd70e",
      "metadata": {
        "id": "8ecbd70e"
      },
      "source": [
        " * There are no duplicates values in the data"
      ]
    },
    {
      "cell_type": "markdown",
      "id": "6e71bae6",
      "metadata": {
        "id": "6e71bae6"
      },
      "source": [
        "#### Seperating Features\n"
      ]
    },
    {
      "cell_type": "code",
      "execution_count": 48,
      "id": "23ff7e9b",
      "metadata": {
        "colab": {
          "base_uri": "https://localhost:8080/",
          "height": 711
        },
        "id": "23ff7e9b",
        "outputId": "88f02f9f-d054-4070-9cfb-c8500fa079e6"
      },
      "outputs": [
        {
          "output_type": "execute_result",
          "data": {
            "text/plain": [
              "Customer Id               object\n",
              "Artist Name               object\n",
              "Artist Reputation        float64\n",
              "Height                   float64\n",
              "Width                    float64\n",
              "Weight                   float64\n",
              "Material                  object\n",
              "Price Of Sculpture       float64\n",
              "Base Shipping Price      float64\n",
              "International             object\n",
              "Express Shipment          object\n",
              "Installation Included     object\n",
              "Transport                 object\n",
              "Fragile                   object\n",
              "Customer Information      object\n",
              "Remote Location           object\n",
              "Scheduled Date            object\n",
              "Delivery Date             object\n",
              "Customer Location         object\n",
              "Cost                     float64\n",
              "dtype: object"
            ],
            "text/html": [
              "<div>\n",
              "<style scoped>\n",
              "    .dataframe tbody tr th:only-of-type {\n",
              "        vertical-align: middle;\n",
              "    }\n",
              "\n",
              "    .dataframe tbody tr th {\n",
              "        vertical-align: top;\n",
              "    }\n",
              "\n",
              "    .dataframe thead th {\n",
              "        text-align: right;\n",
              "    }\n",
              "</style>\n",
              "<table border=\"1\" class=\"dataframe\">\n",
              "  <thead>\n",
              "    <tr style=\"text-align: right;\">\n",
              "      <th></th>\n",
              "      <th>0</th>\n",
              "    </tr>\n",
              "  </thead>\n",
              "  <tbody>\n",
              "    <tr>\n",
              "      <th>Customer Id</th>\n",
              "      <td>object</td>\n",
              "    </tr>\n",
              "    <tr>\n",
              "      <th>Artist Name</th>\n",
              "      <td>object</td>\n",
              "    </tr>\n",
              "    <tr>\n",
              "      <th>Artist Reputation</th>\n",
              "      <td>float64</td>\n",
              "    </tr>\n",
              "    <tr>\n",
              "      <th>Height</th>\n",
              "      <td>float64</td>\n",
              "    </tr>\n",
              "    <tr>\n",
              "      <th>Width</th>\n",
              "      <td>float64</td>\n",
              "    </tr>\n",
              "    <tr>\n",
              "      <th>Weight</th>\n",
              "      <td>float64</td>\n",
              "    </tr>\n",
              "    <tr>\n",
              "      <th>Material</th>\n",
              "      <td>object</td>\n",
              "    </tr>\n",
              "    <tr>\n",
              "      <th>Price Of Sculpture</th>\n",
              "      <td>float64</td>\n",
              "    </tr>\n",
              "    <tr>\n",
              "      <th>Base Shipping Price</th>\n",
              "      <td>float64</td>\n",
              "    </tr>\n",
              "    <tr>\n",
              "      <th>International</th>\n",
              "      <td>object</td>\n",
              "    </tr>\n",
              "    <tr>\n",
              "      <th>Express Shipment</th>\n",
              "      <td>object</td>\n",
              "    </tr>\n",
              "    <tr>\n",
              "      <th>Installation Included</th>\n",
              "      <td>object</td>\n",
              "    </tr>\n",
              "    <tr>\n",
              "      <th>Transport</th>\n",
              "      <td>object</td>\n",
              "    </tr>\n",
              "    <tr>\n",
              "      <th>Fragile</th>\n",
              "      <td>object</td>\n",
              "    </tr>\n",
              "    <tr>\n",
              "      <th>Customer Information</th>\n",
              "      <td>object</td>\n",
              "    </tr>\n",
              "    <tr>\n",
              "      <th>Remote Location</th>\n",
              "      <td>object</td>\n",
              "    </tr>\n",
              "    <tr>\n",
              "      <th>Scheduled Date</th>\n",
              "      <td>object</td>\n",
              "    </tr>\n",
              "    <tr>\n",
              "      <th>Delivery Date</th>\n",
              "      <td>object</td>\n",
              "    </tr>\n",
              "    <tr>\n",
              "      <th>Customer Location</th>\n",
              "      <td>object</td>\n",
              "    </tr>\n",
              "    <tr>\n",
              "      <th>Cost</th>\n",
              "      <td>float64</td>\n",
              "    </tr>\n",
              "  </tbody>\n",
              "</table>\n",
              "</div><br><label><b>dtype:</b> object</label>"
            ]
          },
          "metadata": {},
          "execution_count": 48
        }
      ],
      "source": [
        "df.dtypes"
      ]
    },
    {
      "cell_type": "code",
      "execution_count": 49,
      "id": "7cc22a53",
      "metadata": {
        "colab": {
          "base_uri": "https://localhost:8080/"
        },
        "id": "7cc22a53",
        "outputId": "2f0983da-32b7-4273-9800-1f63a3d0ccfa"
      },
      "outputs": [
        {
          "output_type": "stream",
          "name": "stdout",
          "text": [
            "We have 6 numerical features : ['Artist Reputation', 'Height', 'Width', 'Weight', 'Price Of Sculpture', 'Base Shipping Price']\n",
            "\n",
            "We have 13 Non Numeric features : ['Customer Id', 'Artist Name', 'Material', 'International', 'Express Shipment', 'Installation Included', 'Transport', 'Fragile', 'Customer Information', 'Remote Location', 'Scheduled Date', 'Delivery Date', 'Customer Location']\n"
          ]
        }
      ],
      "source": [
        "target_feature = 'Cost'\n",
        "\n",
        "# define numerical & categorical columns\n",
        "numeric_features = [feature for feature in df.columns if df[feature].dtype != 'O']\n",
        "numeric_features.remove(target_feature)\n",
        "non_numeric_features = [feature for feature in df.columns if df[feature].dtype == 'O']\n",
        "\n",
        "print('We have {} numerical features : {}'.format(len(numeric_features), numeric_features))\n",
        "print('\\nWe have {} Non Numeric features : {}'.format(len(non_numeric_features), non_numeric_features))"
      ]
    },
    {
      "cell_type": "markdown",
      "id": "a4a19751",
      "metadata": {
        "id": "a4a19751"
      },
      "source": [
        "Imputing null values with median to check the multicollinearity"
      ]
    },
    {
      "cell_type": "code",
      "execution_count": 50,
      "id": "212c6126",
      "metadata": {
        "id": "212c6126"
      },
      "outputs": [],
      "source": [
        "df1 = df.copy()\n",
        "for i in numeric_features:\n",
        "    df1[i].fillna(df1[i].median(), inplace=True)"
      ]
    },
    {
      "cell_type": "markdown",
      "id": "07108450",
      "metadata": {
        "id": "07108450"
      },
      "source": [
        "### Multicollinearity Check\n",
        "#### Variance Inflation Factor (VIF)"
      ]
    },
    {
      "cell_type": "markdown",
      "id": "cb1dd544",
      "metadata": {
        "id": "cb1dd544"
      },
      "source": [
        "* Multicollinearity occurs when there are two or more independent variables in a multiple regression model, which have a high correlation among themselves. When some features are highly correlated.\n",
        "* Multicollinearity can be detected using various techniques, one such technique being the Variance Inflation Factor(VIF)."
      ]
    },
    {
      "cell_type": "code",
      "execution_count": 51,
      "id": "bf4c6d4d",
      "metadata": {
        "colab": {
          "base_uri": "https://localhost:8080/"
        },
        "id": "bf4c6d4d",
        "outputId": "5c186197-8fe4-4b37-cf78-b441a5280a45"
      },
      "outputs": [
        {
          "output_type": "stream",
          "name": "stdout",
          "text": [
            "Variance Inflation Factor of Artist Reputation column is 1.01 \n",
            "\n",
            "Variance Inflation Factor of Height column is 1.01 \n",
            "\n",
            "Variance Inflation Factor of Width column is 1.02 \n",
            "\n",
            "Variance Inflation Factor of Weight column is 1.2 \n",
            "\n",
            "Variance Inflation Factor of Price Of Sculpture column is 1.3 \n",
            "\n",
            "Variance Inflation Factor of Base Shipping Price column is 1.01 \n",
            "\n"
          ]
        }
      ],
      "source": [
        "import statsmodels.api as sm\n",
        "\n",
        "for i in range(0, len(numeric_features)):\n",
        "    x = df1.loc[:, df1.columns == numeric_features[i]]\n",
        "    y = df1.Cost\n",
        "    model = sm.OLS(x,y)\n",
        "    results = model.fit()\n",
        "    rsq = results.rsquared\n",
        "    vif = round(1 / (1 - rsq), 2)\n",
        "    print(\n",
        "        \"Variance Inflation Factor of {} column is {} \\n\".format(\n",
        "            numeric_features[i], vif)\n",
        "        )\n"
      ]
    },
    {
      "cell_type": "markdown",
      "id": "10af7220",
      "metadata": {
        "id": "10af7220"
      },
      "source": [
        "### Note:  All the columns has VIF around 1, so there is not severe multicollinearity"
      ]
    },
    {
      "cell_type": "code",
      "execution_count": 52,
      "id": "c24c6284",
      "metadata": {
        "scrolled": false,
        "colab": {
          "base_uri": "https://localhost:8080/",
          "height": 1000
        },
        "id": "c24c6284",
        "outputId": "4c660c4f-545e-4f05-a693-a254fa71313f"
      },
      "outputs": [
        {
          "output_type": "display_data",
          "data": {
            "text/plain": [
              "<Figure size 1000x600 with 1 Axes>"
            ],
            "image/png": "[encoded data removed]"
          },
          "metadata": {}
        },
        {
          "output_type": "display_data",
          "data": {
            "text/plain": [
              "<Figure size 1000x600 with 1 Axes>"
            ],
            "image/png": "[encoded data removed]"
          },
          "metadata": {}
        },
        {
          "output_type": "display_data",
          "data": {
            "text/plain": [
              "<Figure size 1000x600 with 1 Axes>"
            ],
            "image/png": "[encoded data removed]"
          },
          "metadata": {}
        },
        {
          "output_type": "display_data",
          "data": {
            "text/plain": [
              "<Figure size 1000x600 with 1 Axes>"
            ],
            "image/png": "[encoded data removed]"
          },
          "metadata": {}
        },
        {
          "output_type": "display_data",
          "data": {
            "text/plain": [
              "<Figure size 1000x600 with 1 Axes>"
            ],
            "image/png": "[encoded data removed]"
          },
          "metadata": {}
        },
        {
          "output_type": "display_data",
          "data": {
            "text/plain": [
              "<Figure size 1000x600 with 1 Axes>"
            ],
            "image/png": "[encoded data removed]"
          },
          "metadata": {}
        }
      ],
      "source": [
        "for i in numeric_features:\n",
        "        plt.figure(figsize=(10,6))\n",
        "        sns.set_style('ticks')\n",
        "        ax = sns.boxplot(df1[i])"
      ]
    },
    {
      "cell_type": "code",
      "execution_count": 53,
      "id": "1623bdc8",
      "metadata": {
        "colab": {
          "base_uri": "https://localhost:8080/",
          "height": 666
        },
        "id": "1623bdc8",
        "outputId": "6e2695b2-5152-4842-e3d5-fce5b97f9269"
      },
      "outputs": [
        {
          "output_type": "display_data",
          "data": {
            "text/plain": [
              "<Figure size 1500x1500 with 6 Axes>"
            ],
            "image/png": "[encoded data removed]"
          },
          "metadata": {}
        }
      ],
      "source": [
        "plt.figure(figsize=(15, 15))\n",
        "plt.suptitle('Data Distribution for Numerical Features', fontsize=20, fontweight='bold', alpha=0.8, y=1.)\n",
        "\n",
        "for i in range(0, len(numeric_features)):\n",
        "    plt.subplot(5, 3, i+1)\n",
        "    sns.kdeplot(x=df[numeric_features[i]],shade=True, color='b')\n",
        "    plt.xlabel(numeric_features[i])\n",
        "    plt.tight_layout()"
      ]
    },
    {
      "cell_type": "code",
      "execution_count": 54,
      "id": "00a0b479",
      "metadata": {
        "scrolled": true,
        "colab": {
          "base_uri": "https://localhost:8080/",
          "height": 272
        },
        "id": "00a0b479",
        "outputId": "466c45fa-958d-4700-8bb4-b4962ff04ec6"
      },
      "outputs": [
        {
          "output_type": "execute_result",
          "data": {
            "text/plain": [
              "Artist Reputation       0.141363\n",
              "Height                  0.594041\n",
              "Width                   1.546702\n",
              "Weight                 21.556174\n",
              "Price Of Sculpture     22.206823\n",
              "Base Shipping Price     0.918102\n",
              "dtype: float64"
            ],
            "text/html": [
              "<div>\n",
              "<style scoped>\n",
              "    .dataframe tbody tr th:only-of-type {\n",
              "        vertical-align: middle;\n",
              "    }\n",
              "\n",
              "    .dataframe tbody tr th {\n",
              "        vertical-align: top;\n",
              "    }\n",
              "\n",
              "    .dataframe thead th {\n",
              "        text-align: right;\n",
              "    }\n",
              "</style>\n",
              "<table border=\"1\" class=\"dataframe\">\n",
              "  <thead>\n",
              "    <tr style=\"text-align: right;\">\n",
              "      <th></th>\n",
              "      <th>0</th>\n",
              "    </tr>\n",
              "  </thead>\n",
              "  <tbody>\n",
              "    <tr>\n",
              "      <th>Artist Reputation</th>\n",
              "      <td>0.141363</td>\n",
              "    </tr>\n",
              "    <tr>\n",
              "      <th>Height</th>\n",
              "      <td>0.594041</td>\n",
              "    </tr>\n",
              "    <tr>\n",
              "      <th>Width</th>\n",
              "      <td>1.546702</td>\n",
              "    </tr>\n",
              "    <tr>\n",
              "      <th>Weight</th>\n",
              "      <td>21.556174</td>\n",
              "    </tr>\n",
              "    <tr>\n",
              "      <th>Price Of Sculpture</th>\n",
              "      <td>22.206823</td>\n",
              "    </tr>\n",
              "    <tr>\n",
              "      <th>Base Shipping Price</th>\n",
              "      <td>0.918102</td>\n",
              "    </tr>\n",
              "  </tbody>\n",
              "</table>\n",
              "</div><br><label><b>dtype:</b> float64</label>"
            ]
          },
          "metadata": {},
          "execution_count": 54
        }
      ],
      "source": [
        "df[numeric_features].skew()"
      ]
    },
    {
      "cell_type": "markdown",
      "id": "c3a2caf5",
      "metadata": {
        "id": "c3a2caf5"
      },
      "source": [
        "**Insighs**\n",
        "\n",
        " - From EDA we have seen that the `Price Of Sculpture ` and `Weight` were extremely positively skewed may be because outliers\n",
        "\n",
        " - So we can handle this type of case using Power Transformer or log transformer\n",
        "\n",
        " - `Width` and `Base Shipping Price` too are slighty positively skewed but not severe as shown by skewness coefficient.\n"
      ]
    },
    {
      "cell_type": "markdown",
      "id": "3b8fcc91",
      "metadata": {
        "id": "3b8fcc91"
      },
      "source": [
        "#### Checking the power transformer on outlier columns"
      ]
    },
    {
      "cell_type": "code",
      "execution_count": 55,
      "id": "fecee44f",
      "metadata": {
        "id": "fecee44f"
      },
      "outputs": [],
      "source": [
        "outlier_feature = ['Price Of Sculpture', 'Weight']"
      ]
    },
    {
      "cell_type": "code",
      "execution_count": 56,
      "id": "4de72915",
      "metadata": {
        "id": "4de72915"
      },
      "outputs": [],
      "source": [
        "from sklearn.preprocessing import PowerTransformer\n",
        "pt = PowerTransformer(standardize=False)\n",
        "\n",
        "outlier_data = df1[outlier_feature]"
      ]
    },
    {
      "cell_type": "code",
      "execution_count": 57,
      "id": "6eda6d41",
      "metadata": {
        "id": "6eda6d41"
      },
      "outputs": [],
      "source": [
        "df1[outlier_feature] = pt.fit_transform(df1[outlier_feature])"
      ]
    },
    {
      "cell_type": "code",
      "execution_count": 58,
      "id": "491d4807",
      "metadata": {
        "id": "491d4807"
      },
      "outputs": [],
      "source": [
        "df_outlier = pd.DataFrame(outlier_data, columns=outlier_feature)"
      ]
    },
    {
      "cell_type": "code",
      "execution_count": 59,
      "id": "dea29c4d",
      "metadata": {
        "scrolled": false,
        "colab": {
          "base_uri": "https://localhost:8080/",
          "height": 377
        },
        "id": "dea29c4d",
        "outputId": "e27a7f94-f0ec-4ca1-cb40-34e334577e41"
      },
      "outputs": [
        {
          "output_type": "display_data",
          "data": {
            "text/plain": [
              "<Figure size 1500x1500 with 2 Axes>"
            ],
            "image/png": "[encoded data removed]"
          },
          "metadata": {}
        }
      ],
      "source": [
        "plt.figure(figsize=(15, 15))\n",
        "plt.suptitle('Data Distribution for Numerical Features', fontsize=20, fontweight='bold', alpha=0.8, y=1.)\n",
        "\n",
        "for i in range(0, len(outlier_feature)):\n",
        "    plt.subplot(5, 3, i+1)\n",
        "    sns.histplot(x=df1[outlier_feature[i]], color='b')\n",
        "    plt.xlabel(outlier_feature[i])\n",
        "    plt.tight_layout()\n"
      ]
    },
    {
      "cell_type": "code",
      "execution_count": 60,
      "id": "ca8a3898",
      "metadata": {
        "scrolled": true,
        "colab": {
          "base_uri": "https://localhost:8080/",
          "height": 147
        },
        "id": "ca8a3898",
        "outputId": "37154fd5-5040-43cf-9fcc-85bb74597d79"
      },
      "outputs": [
        {
          "output_type": "execute_result",
          "data": {
            "text/plain": [
              "Price Of Sculpture    0.478648\n",
              "Weight                0.027309\n",
              "dtype: float64"
            ],
            "text/html": [
              "<div>\n",
              "<style scoped>\n",
              "    .dataframe tbody tr th:only-of-type {\n",
              "        vertical-align: middle;\n",
              "    }\n",
              "\n",
              "    .dataframe tbody tr th {\n",
              "        vertical-align: top;\n",
              "    }\n",
              "\n",
              "    .dataframe thead th {\n",
              "        text-align: right;\n",
              "    }\n",
              "</style>\n",
              "<table border=\"1\" class=\"dataframe\">\n",
              "  <thead>\n",
              "    <tr style=\"text-align: right;\">\n",
              "      <th></th>\n",
              "      <th>0</th>\n",
              "    </tr>\n",
              "  </thead>\n",
              "  <tbody>\n",
              "    <tr>\n",
              "      <th>Price Of Sculpture</th>\n",
              "      <td>0.478648</td>\n",
              "    </tr>\n",
              "    <tr>\n",
              "      <th>Weight</th>\n",
              "      <td>0.027309</td>\n",
              "    </tr>\n",
              "  </tbody>\n",
              "</table>\n",
              "</div><br><label><b>dtype:</b> float64</label>"
            ]
          },
          "metadata": {},
          "execution_count": 60
        }
      ],
      "source": [
        "df1[outlier_feature].skew()"
      ]
    },
    {
      "cell_type": "markdown",
      "id": "2dfaf7e2",
      "metadata": {
        "id": "2dfaf7e2"
      },
      "source": [
        "**Insights**\n",
        " - Power transformer does a better job at overcoming skewness and handling outliers"
      ]
    },
    {
      "cell_type": "markdown",
      "id": "d8787984",
      "metadata": {
        "id": "d8787984"
      },
      "source": [
        "**Why outliers?**\n",
        "* Data Entry error : Human error.\n",
        "* Measurement error: Instrument error.\n",
        "* Natural error: it will be Real life data.\n",
        "* Intentional error: People give wrong inputs\n",
        "\n",
        "**Impact of Outliers ?**\n",
        "* Ouliers can very high impact on few Machine learning models.\n",
        "* Can Cause bias in the output."
      ]
    },
    {
      "cell_type": "code",
      "execution_count": 61,
      "id": "93bc0135",
      "metadata": {
        "scrolled": false,
        "colab": {
          "base_uri": "https://localhost:8080/",
          "height": 1000
        },
        "id": "93bc0135",
        "outputId": "17f39484-8543-4824-dfd2-197f9fa8feb6"
      },
      "outputs": [
        {
          "output_type": "display_data",
          "data": {
            "text/plain": [
              "<Figure size 1000x600 with 1 Axes>"
            ],
            "image/png": "[encoded data removed]"
          },
          "metadata": {}
        },
        {
          "output_type": "display_data",
          "data": {
            "text/plain": [
              "<Figure size 1000x600 with 1 Axes>"
            ],
            "image/png": "[encoded data removed]"
          },
          "metadata": {}
        },
        {
          "output_type": "display_data",
          "data": {
            "text/plain": [
              "<Figure size 1000x600 with 1 Axes>"
            ],
            "image/png": "[encoded data removed]"
          },
          "metadata": {}
        },
        {
          "output_type": "display_data",
          "data": {
            "text/plain": [
              "<Figure size 1000x600 with 1 Axes>"
            ],
            "image/png": "[encoded data removed]"
          },
          "metadata": {}
        },
        {
          "output_type": "display_data",
          "data": {
            "text/plain": [
              "<Figure size 1000x600 with 1 Axes>"
            ],
            "image/png": "[encoded data removed]"
          },
          "metadata": {}
        },
        {
          "output_type": "display_data",
          "data": {
            "text/plain": [
              "<Figure size 1000x600 with 1 Axes>"
            ],
            "image/png": "[encoded data removed]"
          },
          "metadata": {}
        }
      ],
      "source": [
        "for i in numeric_features:\n",
        "    plt.figure(figsize=(10,6))\n",
        "    sns.set_style('ticks')\n",
        "    ax = sns.boxplot(df1[i])"
      ]
    },
    {
      "cell_type": "markdown",
      "id": "c10fdb1b",
      "metadata": {
        "id": "c10fdb1b"
      },
      "source": [
        "#### Removing outliers from Target Column\n",
        "* Because most model would perform better on noiseless data, as Outlier might skew the findings of your model in one direction"
      ]
    },
    {
      "cell_type": "code",
      "execution_count": 62,
      "id": "b7ac8b30",
      "metadata": {
        "scrolled": false,
        "colab": {
          "base_uri": "https://localhost:8080/",
          "height": 673
        },
        "id": "b7ac8b30",
        "outputId": "5e9a78ae-dfe9-42ff-d71a-39be66dd9b35"
      },
      "outputs": [
        {
          "output_type": "display_data",
          "data": {
            "text/plain": [
              "<Figure size 1400x700 with 1 Axes>"
            ],
            "image/png": "[encoded data removed]"
          },
          "metadata": {}
        }
      ],
      "source": [
        "plt.subplots(figsize=(14,7))\n",
        "sns.histplot(df['Cost'], bins=200, kde=True, color = 'b')\n",
        "plt.title(\"Cost Distribution\", weight=\"bold\",fontsize=20, pad=20)\n",
        "plt.ylabel(\"Count\", weight=\"bold\", fontsize=12)\n",
        "plt.xlabel(\"Cost price in millions\", weight=\"bold\", fontsize=12)\n",
        "plt.show()"
      ]
    },
    {
      "cell_type": "markdown",
      "id": "bbcb6472",
      "metadata": {
        "id": "bbcb6472"
      },
      "source": [
        "Need to apply transformation to target column to make it normally distributed. we use 1p to avoid `inf` values arise dued to `0` in the target column"
      ]
    },
    {
      "cell_type": "code",
      "execution_count": 63,
      "id": "ec82c9cd",
      "metadata": {
        "id": "ec82c9cd"
      },
      "outputs": [],
      "source": [
        "df1['Cost'] = np.log1p(df1['Cost'])"
      ]
    },
    {
      "cell_type": "code",
      "execution_count": 64,
      "id": "be678743",
      "metadata": {
        "scrolled": false,
        "colab": {
          "base_uri": "https://localhost:8080/",
          "height": 534
        },
        "id": "be678743",
        "outputId": "5b7e83f1-61be-477a-8ba8-8efdf3078bb0"
      },
      "outputs": [
        {
          "output_type": "execute_result",
          "data": {
            "text/plain": [
              "(array([1973., 1985.,  954.,  461.,  223.,  127.,   64.,   32.,   16.,\n",
              "           6.]),\n",
              " array([ 4.46671239,  5.64267721,  6.81864203,  7.99460685,  9.17057167,\n",
              "        10.34653649, 11.5225013 , 12.69846612, 13.87443094, 15.05039576,\n",
              "        16.22636058]),\n",
              " <BarContainer object of 10 artists>)"
            ]
          },
          "metadata": {},
          "execution_count": 64
        },
        {
          "output_type": "display_data",
          "data": {
            "text/plain": [
              "<Figure size 640x480 with 1 Axes>"
            ],
            "image/png": "[encoded data removed]"
          },
          "metadata": {}
        }
      ],
      "source": [
        "plt.hist(df1['Cost'])"
      ]
    },
    {
      "cell_type": "markdown",
      "id": "8f1d05e6",
      "metadata": {
        "id": "8f1d05e6"
      },
      "source": [
        "Data looks good after the log transformation but not Normally distributed."
      ]
    },
    {
      "cell_type": "markdown",
      "id": "b2a14344",
      "metadata": {
        "id": "b2a14344"
      },
      "source": [
        "#### Feature Creation for Date Columns"
      ]
    },
    {
      "cell_type": "code",
      "execution_count": 65,
      "id": "91db5dff",
      "metadata": {
        "id": "91db5dff"
      },
      "outputs": [],
      "source": [
        "# Convert object datatype to datetime\n",
        "df['Scheduled Date'] = pd.to_datetime(df['Scheduled Date'])\n",
        "df['Delivery Date'] = pd.to_datetime(df['Delivery Date'])"
      ]
    },
    {
      "cell_type": "code",
      "execution_count": 66,
      "id": "fedd0f42",
      "metadata": {
        "id": "fedd0f42"
      },
      "outputs": [],
      "source": [
        "df['Month'] = pd.to_datetime(df['Scheduled Date']).dt.month\n",
        "df['Year'] = pd.to_datetime(df['Scheduled Date']).dt.year\n",
        "\n",
        "numeric_features.append('Month')\n",
        "numeric_features.append('Year')"
      ]
    },
    {
      "cell_type": "markdown",
      "id": "df8e31a0",
      "metadata": {
        "id": "df8e31a0"
      },
      "source": [
        "#### Drop Unneccessary column"
      ]
    },
    {
      "cell_type": "markdown",
      "id": "c84d1d87",
      "metadata": {
        "id": "c84d1d87"
      },
      "source": [
        "Drop `Customer Id`, `Artist Name` and `Customer Location` columns having huge number of unique values.\n",
        "\n",
        "`Scheduled Date` and `Delivery Date` can be dropped since the required features are extracted form it"
      ]
    },
    {
      "cell_type": "code",
      "execution_count": 67,
      "id": "cdd157e1",
      "metadata": {
        "id": "cdd157e1"
      },
      "outputs": [],
      "source": [
        "to_drop_columns = ['Customer Id', 'Artist Name', 'Customer Location', 'Scheduled Date', 'Delivery Date']"
      ]
    },
    {
      "cell_type": "code",
      "execution_count": 68,
      "id": "4f650dfe",
      "metadata": {
        "id": "4f650dfe"
      },
      "outputs": [],
      "source": [
        "df.drop(columns=to_drop_columns, inplace=True)"
      ]
    },
    {
      "cell_type": "code",
      "execution_count": 69,
      "id": "6724fc22",
      "metadata": {
        "colab": {
          "base_uri": "https://localhost:8080/",
          "height": 458
        },
        "id": "6724fc22",
        "outputId": "bfc6f1ce-01c5-4f5a-d0d3-c3f553102ce7"
      },
      "outputs": [
        {
          "output_type": "execute_result",
          "data": {
            "text/plain": [
              "      Artist Reputation  Height  Width     Weight   Material  \\\n",
              "0                  0.26    17.0    6.0     4128.0      Brass   \n",
              "1                  0.28     3.0    3.0       61.0      Brass   \n",
              "2                  0.07     8.0    5.0      237.0       Clay   \n",
              "3                  0.12     9.0    NaN        NaN  Aluminium   \n",
              "4                  0.15    17.0    6.0      324.0  Aluminium   \n",
              "...                 ...     ...    ...        ...        ...   \n",
              "6495               0.37    37.0   10.0    16551.0      Brass   \n",
              "6496               0.67    15.0    NaN    18981.0        NaN   \n",
              "6497               0.68    19.0    8.0      587.0       Clay   \n",
              "6498               0.02    33.0    9.0  1269377.0      Stone   \n",
              "6499               0.18    30.0   13.0    34729.0      Brass   \n",
              "\n",
              "      Price Of Sculpture  Base Shipping Price International Express Shipment  \\\n",
              "0                  13.91                16.27           Yes              Yes   \n",
              "1                   6.83                15.00            No               No   \n",
              "2                   4.96                21.18            No               No   \n",
              "3                   5.81                16.31            No               No   \n",
              "4                   3.18                11.94           Yes              Yes   \n",
              "...                  ...                  ...           ...              ...   \n",
              "6495               28.28                38.46           Yes              Yes   \n",
              "6496               67.18                27.72            No               No   \n",
              "6497                6.92                10.38           Yes               No   \n",
              "6498             2929.13                69.76            No              Yes   \n",
              "6499               46.63                78.25            No              Yes   \n",
              "\n",
              "     Installation Included Transport Fragile Customer Information  \\\n",
              "0                       No   Airways      No        Working Class   \n",
              "1                       No  Roadways      No        Working Class   \n",
              "2                       No  Roadways     Yes        Working Class   \n",
              "3                       No       NaN      No              Wealthy   \n",
              "4                      Yes   Airways      No        Working Class   \n",
              "...                    ...       ...     ...                  ...   \n",
              "6495                    No   Airways      No              Wealthy   \n",
              "6496                    No  Roadways      No        Working Class   \n",
              "6497                    No       NaN     Yes              Wealthy   \n",
              "6498                    No  Roadways      No        Working Class   \n",
              "6499                    No   Airways      No        Working Class   \n",
              "\n",
              "     Remote Location     Cost  Month  Year  \n",
              "0                 No  -283.29      6  2015  \n",
              "1                 No  -159.96      3  2017  \n",
              "2                Yes  -154.29      3  2015  \n",
              "3                Yes  -161.16      5  2015  \n",
              "4                 No  -159.23     12  2016  \n",
              "...              ...      ...    ...   ...  \n",
              "6495             Yes   872.43      3  2018  \n",
              "6496              No  1347.02      8  2015  \n",
              "6497              No   354.55      4  2019  \n",
              "6498             Yes  5037.50      3  2019  \n",
              "6499              No   722.47     12  2016  \n",
              "\n",
              "[6500 rows x 17 columns]"
            ],
            "text/html": [
              "\n",
              "  <div id=\"df-25a6878f-eb92-4b32-b96d-91ee23c094e8\" class=\"colab-df-container\">\n",
              "    <div>\n",
              "<style scoped>\n",
              "    .dataframe tbody tr th:only-of-type {\n",
              "        vertical-align: middle;\n",
              "    }\n",
              "\n",
              "    .dataframe tbody tr th {\n",
              "        vertical-align: top;\n",
              "    }\n",
              "\n",
              "    .dataframe thead th {\n",
              "        text-align: right;\n",
              "    }\n",
              "</style>\n",
              "<table border=\"1\" class=\"dataframe\">\n",
              "  <thead>\n",
              "    <tr style=\"text-align: right;\">\n",
              "      <th></th>\n",
              "      <th>Artist Reputation</th>\n",
              "      <th>Height</th>\n",
              "      <th>Width</th>\n",
              "      <th>Weight</th>\n",
              "      <th>Material</th>\n",
              "      <th>Price Of Sculpture</th>\n",
              "      <th>Base Shipping Price</th>\n",
              "      <th>International</th>\n",
              "      <th>Express Shipment</th>\n",
              "      <th>Installation Included</th>\n",
              "      <th>Transport</th>\n",
              "      <th>Fragile</th>\n",
              "      <th>Customer Information</th>\n",
              "      <th>Remote Location</th>\n",
              "      <th>Cost</th>\n",
              "      <th>Month</th>\n",
              "      <th>Year</th>\n",
              "    </tr>\n",
              "  </thead>\n",
              "  <tbody>\n",
              "    <tr>\n",
              "      <th>0</th>\n",
              "      <td>0.26</td>\n",
              "      <td>17.0</td>\n",
              "      <td>6.0</td>\n",
              "      <td>4128.0</td>\n",
              "      <td>Brass</td>\n",
              "      <td>13.91</td>\n",
              "      <td>16.27</td>\n",
              "      <td>Yes</td>\n",
              "      <td>Yes</td>\n",
              "      <td>No</td>\n",
              "      <td>Airways</td>\n",
              "      <td>No</td>\n",
              "      <td>Working Class</td>\n",
              "      <td>No</td>\n",
              "      <td>-283.29</td>\n",
              "      <td>6</td>\n",
              "      <td>2015</td>\n",
              "    </tr>\n",
              "    <tr>\n",
              "      <th>1</th>\n",
              "      <td>0.28</td>\n",
              "      <td>3.0</td>\n",
              "      <td>3.0</td>\n",
              "      <td>61.0</td>\n",
              "      <td>Brass</td>\n",
              "      <td>6.83</td>\n",
              "      <td>15.00</td>\n",
              "      <td>No</td>\n",
              "      <td>No</td>\n",
              "      <td>No</td>\n",
              "      <td>Roadways</td>\n",
              "      <td>No</td>\n",
              "      <td>Working Class</td>\n",
              "      <td>No</td>\n",
              "      <td>-159.96</td>\n",
              "      <td>3</td>\n",
              "      <td>2017</td>\n",
              "    </tr>\n",
              "    <tr>\n",
              "      <th>2</th>\n",
              "      <td>0.07</td>\n",
              "      <td>8.0</td>\n",
              "      <td>5.0</td>\n",
              "      <td>237.0</td>\n",
              "      <td>Clay</td>\n",
              "      <td>4.96</td>\n",
              "      <td>21.18</td>\n",
              "      <td>No</td>\n",
              "      <td>No</td>\n",
              "      <td>No</td>\n",
              "      <td>Roadways</td>\n",
              "      <td>Yes</td>\n",
              "      <td>Working Class</td>\n",
              "      <td>Yes</td>\n",
              "      <td>-154.29</td>\n",
              "      <td>3</td>\n",
              "      <td>2015</td>\n",
              "    </tr>\n",
              "    <tr>\n",
              "      <th>3</th>\n",
              "      <td>0.12</td>\n",
              "      <td>9.0</td>\n",
              "      <td>NaN</td>\n",
              "      <td>NaN</td>\n",
              "      <td>Aluminium</td>\n",
              "      <td>5.81</td>\n",
              "      <td>16.31</td>\n",
              "      <td>No</td>\n",
              "      <td>No</td>\n",
              "      <td>No</td>\n",
              "      <td>NaN</td>\n",
              "      <td>No</td>\n",
              "      <td>Wealthy</td>\n",
              "      <td>Yes</td>\n",
              "      <td>-161.16</td>\n",
              "      <td>5</td>\n",
              "      <td>2015</td>\n",
              "    </tr>\n",
              "    <tr>\n",
              "      <th>4</th>\n",
              "      <td>0.15</td>\n",
              "      <td>17.0</td>\n",
              "      <td>6.0</td>\n",
              "      <td>324.0</td>\n",
              "      <td>Aluminium</td>\n",
              "      <td>3.18</td>\n",
              "      <td>11.94</td>\n",
              "      <td>Yes</td>\n",
              "      <td>Yes</td>\n",
              "      <td>Yes</td>\n",
              "      <td>Airways</td>\n",
              "      <td>No</td>\n",
              "      <td>Working Class</td>\n",
              "      <td>No</td>\n",
              "      <td>-159.23</td>\n",
              "      <td>12</td>\n",
              "      <td>2016</td>\n",
              "    </tr>\n",
              "    <tr>\n",
              "      <th>...</th>\n",
              "      <td>...</td>\n",
              "      <td>...</td>\n",
              "      <td>...</td>\n",
              "      <td>...</td>\n",
              "      <td>...</td>\n",
              "      <td>...</td>\n",
              "      <td>...</td>\n",
              "      <td>...</td>\n",
              "      <td>...</td>\n",
              "      <td>...</td>\n",
              "      <td>...</td>\n",
              "      <td>...</td>\n",
              "      <td>...</td>\n",
              "      <td>...</td>\n",
              "      <td>...</td>\n",
              "      <td>...</td>\n",
              "      <td>...</td>\n",
              "    </tr>\n",
              "    <tr>\n",
              "      <th>6495</th>\n",
              "      <td>0.37</td>\n",
              "      <td>37.0</td>\n",
              "      <td>10.0</td>\n",
              "      <td>16551.0</td>\n",
              "      <td>Brass</td>\n",
              "      <td>28.28</td>\n",
              "      <td>38.46</td>\n",
              "      <td>Yes</td>\n",
              "      <td>Yes</td>\n",
              "      <td>No</td>\n",
              "      <td>Airways</td>\n",
              "      <td>No</td>\n",
              "      <td>Wealthy</td>\n",
              "      <td>Yes</td>\n",
              "      <td>872.43</td>\n",
              "      <td>3</td>\n",
              "      <td>2018</td>\n",
              "    </tr>\n",
              "    <tr>\n",
              "      <th>6496</th>\n",
              "      <td>0.67</td>\n",
              "      <td>15.0</td>\n",
              "      <td>NaN</td>\n",
              "      <td>18981.0</td>\n",
              "      <td>NaN</td>\n",
              "      <td>67.18</td>\n",
              "      <td>27.72</td>\n",
              "      <td>No</td>\n",
              "      <td>No</td>\n",
              "      <td>No</td>\n",
              "      <td>Roadways</td>\n",
              "      <td>No</td>\n",
              "      <td>Working Class</td>\n",
              "      <td>No</td>\n",
              "      <td>1347.02</td>\n",
              "      <td>8</td>\n",
              "      <td>2015</td>\n",
              "    </tr>\n",
              "    <tr>\n",
              "      <th>6497</th>\n",
              "      <td>0.68</td>\n",
              "      <td>19.0</td>\n",
              "      <td>8.0</td>\n",
              "      <td>587.0</td>\n",
              "      <td>Clay</td>\n",
              "      <td>6.92</td>\n",
              "      <td>10.38</td>\n",
              "      <td>Yes</td>\n",
              "      <td>No</td>\n",
              "      <td>No</td>\n",
              "      <td>NaN</td>\n",
              "      <td>Yes</td>\n",
              "      <td>Wealthy</td>\n",
              "      <td>No</td>\n",
              "      <td>354.55</td>\n",
              "      <td>4</td>\n",
              "      <td>2019</td>\n",
              "    </tr>\n",
              "    <tr>\n",
              "      <th>6498</th>\n",
              "      <td>0.02</td>\n",
              "      <td>33.0</td>\n",
              "      <td>9.0</td>\n",
              "      <td>1269377.0</td>\n",
              "      <td>Stone</td>\n",
              "      <td>2929.13</td>\n",
              "      <td>69.76</td>\n",
              "      <td>No</td>\n",
              "      <td>Yes</td>\n",
              "      <td>No</td>\n",
              "      <td>Roadways</td>\n",
              "      <td>No</td>\n",
              "      <td>Working Class</td>\n",
              "      <td>Yes</td>\n",
              "      <td>5037.50</td>\n",
              "      <td>3</td>\n",
              "      <td>2019</td>\n",
              "    </tr>\n",
              "    <tr>\n",
              "      <th>6499</th>\n",
              "      <td>0.18</td>\n",
              "      <td>30.0</td>\n",
              "      <td>13.0</td>\n",
              "      <td>34729.0</td>\n",
              "      <td>Brass</td>\n",
              "      <td>46.63</td>\n",
              "      <td>78.25</td>\n",
              "      <td>No</td>\n",
              "      <td>Yes</td>\n",
              "      <td>No</td>\n",
              "      <td>Airways</td>\n",
              "      <td>No</td>\n",
              "      <td>Working Class</td>\n",
              "      <td>No</td>\n",
              "      <td>722.47</td>\n",
              "      <td>12</td>\n",
              "      <td>2016</td>\n",
              "    </tr>\n",
              "  </tbody>\n",
              "</table>\n",
              "<p>6500 rows × 17 columns</p>\n",
              "</div>\n",
              "    <div class=\"colab-df-buttons\">\n",
              "\n",
              "  <div class=\"colab-df-container\">\n",
              "    <button class=\"colab-df-convert\" onclick=\"convertToInteractive('df-25a6878f-eb92-4b32-b96d-91ee23c094e8')\"\n",
              "            title=\"Convert this dataframe to an interactive table.\"\n",
              "            style=\"display:none;\">\n",
              "\n",
              "  <svg xmlns=\"http://www.w3.org/2000/svg\" height=\"24px\" viewBox=\"0 -960 960 960\">\n",
              "    <path d=\"M120-120v-720h720v720H120Zm60-500h600v-160H180v160Zm220 220h160v-160H400v160Zm0 220h160v-160H400v160ZM180-400h160v-160H180v160Zm440 0h160v-160H620v160ZM180-180h160v-160H180v160Zm440 0h160v-160H620v160Z\"/>\n",
              "  </svg>\n",
              "    </button>\n",
              "\n",
              "  <style>\n",
              "    .colab-df-container {\n",
              "      display:flex;\n",
              "      gap: 12px;\n",
              "    }\n",
              "\n",
              "    .colab-df-convert {\n",
              "      background-color: #E8F0FE;\n",
              "      border: none;\n",
              "      border-radius: 50%;\n",
              "      cursor: pointer;\n",
              "      display: none;\n",
              "      fill: #1967D2;\n",
              "      height: 32px;\n",
              "      padding: 0 0 0 0;\n",
              "      width: 32px;\n",
              "    }\n",
              "\n",
              "    .colab-df-convert:hover {\n",
              "      background-color: #E2EBFA;\n",
              "      box-shadow: 0px 1px 2px rgba(60, 64, 67, 0.3), 0px 1px 3px 1px rgba(60, 64, 67, 0.15);\n",
              "      fill: #174EA6;\n",
              "    }\n",
              "\n",
              "    .colab-df-buttons div {\n",
              "      margin-bottom: 4px;\n",
              "    }\n",
              "\n",
              "    [theme=dark] .colab-df-convert {\n",
              "      background-color: #3B4455;\n",
              "      fill: #D2E3FC;\n",
              "    }\n",
              "\n",
              "    [theme=dark] .colab-df-convert:hover {\n",
              "      background-color: #434B5C;\n",
              "      box-shadow: 0px 1px 3px 1px rgba(0, 0, 0, 0.15);\n",
              "      filter: drop-shadow(0px 1px 2px rgba(0, 0, 0, 0.3));\n",
              "      fill: #FFFFFF;\n",
              "    }\n",
              "  </style>\n",
              "\n",
              "    <script>\n",
              "      const buttonEl =\n",
              "        document.querySelector('#df-25a6878f-eb92-4b32-b96d-91ee23c094e8 button.colab-df-convert');\n",
              "      buttonEl.style.display =\n",
              "        google.colab.kernel.accessAllowed ? 'block' : 'none';\n",
              "\n",
              "      async function convertToInteractive(key) {\n",
              "        const element = document.querySelector('#df-25a6878f-eb92-4b32-b96d-91ee23c094e8');\n",
              "        const dataTable =\n",
              "          await google.colab.kernel.invokeFunction('convertToInteractive',\n",
              "                                                    [key], {});\n",
              "        if (!dataTable) return;\n",
              "\n",
              "        const docLinkHtml = 'Like what you see? Visit the ' +\n",
              "          '<a target=\"_blank\" href=https://colab.research.google.com/notebooks/data_table.ipynb>data table notebook</a>'\n",
              "          + ' to learn more about interactive tables.';\n",
              "        element.innerHTML = '';\n",
              "        dataTable['output_type'] = 'display_data';\n",
              "        await google.colab.output.renderOutput(dataTable, element);\n",
              "        const docLink = document.createElement('div');\n",
              "        docLink.innerHTML = docLinkHtml;\n",
              "        element.appendChild(docLink);\n",
              "      }\n",
              "    </script>\n",
              "  </div>\n",
              "\n",
              "\n",
              "<div id=\"df-f973d3cf-0411-4061-839e-e4f8695fbb10\">\n",
              "  <button class=\"colab-df-quickchart\" onclick=\"quickchart('df-f973d3cf-0411-4061-839e-e4f8695fbb10')\"\n",
              "            title=\"Suggest charts\"\n",
              "            style=\"display:none;\">\n",
              "\n",
              "<svg xmlns=\"http://www.w3.org/2000/svg\" height=\"24px\"viewBox=\"0 0 24 24\"\n",
              "     width=\"24px\">\n",
              "    <g>\n",
              "        <path d=\"M19 3H5c-1.1 0-2 .9-2 2v14c0 1.1.9 2 2 2h14c1.1 0 2-.9 2-2V5c0-1.1-.9-2-2-2zM9 17H7v-7h2v7zm4 0h-2V7h2v10zm4 0h-2v-4h2v4z\"/>\n",
              "    </g>\n",
              "</svg>\n",
              "  </button>\n",
              "\n",
              "<style>\n",
              "  .colab-df-quickchart {\n",
              "      --bg-color: #E8F0FE;\n",
              "      --fill-color: #1967D2;\n",
              "      --hover-bg-color: #E2EBFA;\n",
              "      --hover-fill-color: #174EA6;\n",
              "      --disabled-fill-color: #AAA;\n",
              "      --disabled-bg-color: #DDD;\n",
              "  }\n",
              "\n",
              "  [theme=dark] .colab-df-quickchart {\n",
              "      --bg-color: #3B4455;\n",
              "      --fill-color: #D2E3FC;\n",
              "      --hover-bg-color: #434B5C;\n",
              "      --hover-fill-color: #FFFFFF;\n",
              "      --disabled-bg-color: #3B4455;\n",
              "      --disabled-fill-color: #666;\n",
              "  }\n",
              "\n",
              "  .colab-df-quickchart {\n",
              "    background-color: var(--bg-color);\n",
              "    border: none;\n",
              "    border-radius: 50%;\n",
              "    cursor: pointer;\n",
              "    display: none;\n",
              "    fill: var(--fill-color);\n",
              "    height: 32px;\n",
              "    padding: 0;\n",
              "    width: 32px;\n",
              "  }\n",
              "\n",
              "  .colab-df-quickchart:hover {\n",
              "    background-color: var(--hover-bg-color);\n",
              "    box-shadow: 0 1px 2px rgba(60, 64, 67, 0.3), 0 1px 3px 1px rgba(60, 64, 67, 0.15);\n",
              "    fill: var(--button-hover-fill-color);\n",
              "  }\n",
              "\n",
              "  .colab-df-quickchart-complete:disabled,\n",
              "  .colab-df-quickchart-complete:disabled:hover {\n",
              "    background-color: var(--disabled-bg-color);\n",
              "    fill: var(--disabled-fill-color);\n",
              "    box-shadow: none;\n",
              "  }\n",
              "\n",
              "  .colab-df-spinner {\n",
              "    border: 2px solid var(--fill-color);\n",
              "    border-color: transparent;\n",
              "    border-bottom-color: var(--fill-color);\n",
              "    animation:\n",
              "      spin 1s steps(1) infinite;\n",
              "  }\n",
              "\n",
              "  @keyframes spin {\n",
              "    0% {\n",
              "      border-color: transparent;\n",
              "      border-bottom-color: var(--fill-color);\n",
              "      border-left-color: var(--fill-color);\n",
              "    }\n",
              "    20% {\n",
              "      border-color: transparent;\n",
              "      border-left-color: var(--fill-color);\n",
              "      border-top-color: var(--fill-color);\n",
              "    }\n",
              "    30% {\n",
              "      border-color: transparent;\n",
              "      border-left-color: var(--fill-color);\n",
              "      border-top-color: var(--fill-color);\n",
              "      border-right-color: var(--fill-color);\n",
              "    }\n",
              "    40% {\n",
              "      border-color: transparent;\n",
              "      border-right-color: var(--fill-color);\n",
              "      border-top-color: var(--fill-color);\n",
              "    }\n",
              "    60% {\n",
              "      border-color: transparent;\n",
              "      border-right-color: var(--fill-color);\n",
              "    }\n",
              "    80% {\n",
              "      border-color: transparent;\n",
              "      border-right-color: var(--fill-color);\n",
              "      border-bottom-color: var(--fill-color);\n",
              "    }\n",
              "    90% {\n",
              "      border-color: transparent;\n",
              "      border-bottom-color: var(--fill-color);\n",
              "    }\n",
              "  }\n",
              "</style>\n",
              "\n",
              "  <script>\n",
              "    async function quickchart(key) {\n",
              "      const quickchartButtonEl =\n",
              "        document.querySelector('#' + key + ' button');\n",
              "      quickchartButtonEl.disabled = true;  // To prevent multiple clicks.\n",
              "      quickchartButtonEl.classList.add('colab-df-spinner');\n",
              "      try {\n",
              "        const charts = await google.colab.kernel.invokeFunction(\n",
              "            'suggestCharts', [key], {});\n",
              "      } catch (error) {\n",
              "        console.error('Error during call to suggestCharts:', error);\n",
              "      }\n",
              "      quickchartButtonEl.classList.remove('colab-df-spinner');\n",
              "      quickchartButtonEl.classList.add('colab-df-quickchart-complete');\n",
              "    }\n",
              "    (() => {\n",
              "      let quickchartButtonEl =\n",
              "        document.querySelector('#df-f973d3cf-0411-4061-839e-e4f8695fbb10 button');\n",
              "      quickchartButtonEl.style.display =\n",
              "        google.colab.kernel.accessAllowed ? 'block' : 'none';\n",
              "    })();\n",
              "  </script>\n",
              "</div>\n",
              "\n",
              "  <div id=\"id_a68923bf-a244-45bb-aa13-4e97f4a4acfd\">\n",
              "    <style>\n",
              "      .colab-df-generate {\n",
              "        background-color: #E8F0FE;\n",
              "        border: none;\n",
              "        border-radius: 50%;\n",
              "        cursor: pointer;\n",
              "        display: none;\n",
              "        fill: #1967D2;\n",
              "        height: 32px;\n",
              "        padding: 0 0 0 0;\n",
              "        width: 32px;\n",
              "      }\n",
              "\n",
              "      .colab-df-generate:hover {\n",
              "        background-color: #E2EBFA;\n",
              "        box-shadow: 0px 1px 2px rgba(60, 64, 67, 0.3), 0px 1px 3px 1px rgba(60, 64, 67, 0.15);\n",
              "        fill: #174EA6;\n",
              "      }\n",
              "\n",
              "      [theme=dark] .colab-df-generate {\n",
              "        background-color: #3B4455;\n",
              "        fill: #D2E3FC;\n",
              "      }\n",
              "\n",
              "      [theme=dark] .colab-df-generate:hover {\n",
              "        background-color: #434B5C;\n",
              "        box-shadow: 0px 1px 3px 1px rgba(0, 0, 0, 0.15);\n",
              "        filter: drop-shadow(0px 1px 2px rgba(0, 0, 0, 0.3));\n",
              "        fill: #FFFFFF;\n",
              "      }\n",
              "    </style>\n",
              "    <button class=\"colab-df-generate\" onclick=\"generateWithVariable('df')\"\n",
              "            title=\"Generate code using this dataframe.\"\n",
              "            style=\"display:none;\">\n",
              "\n",
              "  <svg xmlns=\"http://www.w3.org/2000/svg\" height=\"24px\"viewBox=\"0 0 24 24\"\n",
              "       width=\"24px\">\n",
              "    <path d=\"M7,19H8.4L18.45,9,17,7.55,7,17.6ZM5,21V16.75L18.45,3.32a2,2,0,0,1,2.83,0l1.4,1.43a1.91,1.91,0,0,1,.58,1.4,1.91,1.91,0,0,1-.58,1.4L9.25,21ZM18.45,9,17,7.55Zm-12,3A5.31,5.31,0,0,0,4.9,8.1,5.31,5.31,0,0,0,1,6.5,5.31,5.31,0,0,0,4.9,4.9,5.31,5.31,0,0,0,6.5,1,5.31,5.31,0,0,0,8.1,4.9,5.31,5.31,0,0,0,12,6.5,5.46,5.46,0,0,0,6.5,12Z\"/>\n",
              "  </svg>\n",
              "    </button>\n",
              "    <script>\n",
              "      (() => {\n",
              "      const buttonEl =\n",
              "        document.querySelector('#id_a68923bf-a244-45bb-aa13-4e97f4a4acfd button.colab-df-generate');\n",
              "      buttonEl.style.display =\n",
              "        google.colab.kernel.accessAllowed ? 'block' : 'none';\n",
              "\n",
              "      buttonEl.onclick = () => {\n",
              "        google.colab.notebook.generateWithVariable('df');\n",
              "      }\n",
              "      })();\n",
              "    </script>\n",
              "  </div>\n",
              "\n",
              "    </div>\n",
              "  </div>\n"
            ],
            "application/vnd.google.colaboratory.intrinsic+json": {
              "type": "dataframe",
              "variable_name": "df",
              "summary": "{\n  \"name\": \"df\",\n  \"rows\": 6500,\n  \"fields\": [\n    {\n      \"column\": \"Artist Reputation\",\n      \"properties\": {\n        \"dtype\": \"number\",\n        \"std\": 0.2657811296284417,\n        \"min\": 0.0,\n        \"max\": 1.0,\n        \"num_unique_values\": 101,\n        \"samples\": [\n          0.63,\n          0.03,\n          0.62\n        ],\n        \"semantic_type\": \"\",\n        \"description\": \"\"\n      }\n    },\n    {\n      \"column\": \"Height\",\n      \"properties\": {\n        \"dtype\": \"number\",\n        \"std\": 11.96819214259745,\n        \"min\": 3.0,\n        \"max\": 73.0,\n        \"num_unique_values\": 65,\n        \"samples\": [\n          52.0,\n          60.0,\n          17.0\n        ],\n        \"semantic_type\": \"\",\n        \"description\": \"\"\n      }\n    },\n    {\n      \"column\": \"Width\",\n      \"properties\": {\n        \"dtype\": \"number\",\n        \"std\": 5.417000221775491,\n        \"min\": 2.0,\n        \"max\": 50.0,\n        \"num_unique_values\": 40,\n        \"samples\": [\n          20.0,\n          21.0,\n          13.0\n        ],\n        \"semantic_type\": \"\",\n        \"description\": \"\"\n      }\n    },\n    {\n      \"column\": \"Weight\",\n      \"properties\": {\n        \"dtype\": \"number\",\n        \"std\": 2678081.227562182,\n        \"min\": 3.0,\n        \"max\": 117927869.0,\n        \"num_unique_values\": 4410,\n        \"samples\": [\n          2193.0,\n          98291.0,\n          169582.0\n        ],\n        \"semantic_type\": \"\",\n        \"description\": \"\"\n      }\n    },\n    {\n      \"column\": \"Material\",\n      \"properties\": {\n        \"dtype\": \"category\",\n        \"num_unique_values\": 7,\n        \"samples\": [\n          \"Brass\",\n          \"Clay\",\n          \"Bronze\"\n        ],\n        \"semantic_type\": \"\",\n        \"description\": \"\"\n      }\n    },\n    {\n      \"column\": \"Price Of Sculpture\",\n      \"properties\": {\n        \"dtype\": \"number\",\n        \"std\": 8819.616750283894,\n        \"min\": 3.0,\n        \"max\": 382385.67,\n        \"num_unique_values\": 3424,\n        \"samples\": [\n          1061.66,\n          980.25,\n          1805.44\n        ],\n        \"semantic_type\": \"\",\n        \"description\": \"\"\n      }\n    },\n    {\n      \"column\": \"Base Shipping Price\",\n      \"properties\": {\n        \"dtype\": \"number\",\n        \"std\": 26.87351863133661,\n        \"min\": 10.0,\n        \"max\": 99.98,\n        \"num_unique_values\": 3732,\n        \"samples\": [\n          76.37,\n          87.65,\n          26.24\n        ],\n        \"semantic_type\": \"\",\n        \"description\": \"\"\n      }\n    },\n    {\n      \"column\": \"International\",\n      \"properties\": {\n        \"dtype\": \"category\",\n        \"num_unique_values\": 2,\n        \"samples\": [\n          \"No\",\n          \"Yes\"\n        ],\n        \"semantic_type\": \"\",\n        \"description\": \"\"\n      }\n    },\n    {\n      \"column\": \"Express Shipment\",\n      \"properties\": {\n        \"dtype\": \"category\",\n        \"num_unique_values\": 2,\n        \"samples\": [\n          \"No\",\n          \"Yes\"\n        ],\n        \"semantic_type\": \"\",\n        \"description\": \"\"\n      }\n    },\n    {\n      \"column\": \"Installation Included\",\n      \"properties\": {\n        \"dtype\": \"category\",\n        \"num_unique_values\": 2,\n        \"samples\": [\n          \"Yes\",\n          \"No\"\n        ],\n        \"semantic_type\": \"\",\n        \"description\": \"\"\n      }\n    },\n    {\n      \"column\": \"Transport\",\n      \"properties\": {\n        \"dtype\": \"category\",\n        \"num_unique_values\": 3,\n        \"samples\": [\n          \"Airways\",\n          \"Roadways\"\n        ],\n        \"semantic_type\": \"\",\n        \"description\": \"\"\n      }\n    },\n    {\n      \"column\": \"Fragile\",\n      \"properties\": {\n        \"dtype\": \"category\",\n        \"num_unique_values\": 2,\n        \"samples\": [\n          \"Yes\",\n          \"No\"\n        ],\n        \"semantic_type\": \"\",\n        \"description\": \"\"\n      }\n    },\n    {\n      \"column\": \"Customer Information\",\n      \"properties\": {\n        \"dtype\": \"category\",\n        \"num_unique_values\": 2,\n        \"samples\": [\n          \"Wealthy\",\n          \"Working Class\"\n        ],\n        \"semantic_type\": \"\",\n        \"description\": \"\"\n      }\n    },\n    {\n      \"column\": \"Remote Location\",\n      \"properties\": {\n        \"dtype\": \"category\",\n        \"num_unique_values\": 2,\n        \"samples\": [\n          \"Yes\",\n          \"No\"\n        ],\n        \"semantic_type\": \"\",\n        \"description\": \"\"\n      }\n    },\n    {\n      \"column\": \"Cost\",\n      \"properties\": {\n        \"dtype\": \"number\",\n        \"std\": 240657.8684731682,\n        \"min\": -880172.65,\n        \"max\": 11143428.25,\n        \"num_unique_values\": 6356,\n        \"samples\": [\n          198.85,\n          588.1\n        ],\n        \"semantic_type\": \"\",\n        \"description\": \"\"\n      }\n    },\n    {\n      \"column\": \"Month\",\n      \"properties\": {\n        \"dtype\": \"int32\",\n        \"num_unique_values\": 12,\n        \"samples\": [\n          11,\n          2\n        ],\n        \"semantic_type\": \"\",\n        \"description\": \"\"\n      }\n    },\n    {\n      \"column\": \"Year\",\n      \"properties\": {\n        \"dtype\": \"int32\",\n        \"num_unique_values\": 5,\n        \"samples\": [\n          2017,\n          2018\n        ],\n        \"semantic_type\": \"\",\n        \"description\": \"\"\n      }\n    }\n  ]\n}"
            }
          },
          "metadata": {},
          "execution_count": 69
        }
      ],
      "source": [
        "df"
      ]
    },
    {
      "cell_type": "code",
      "source": [
        "!pip install catboost"
      ],
      "metadata": {
        "colab": {
          "base_uri": "https://localhost:8080/"
        },
        "id": "7Oz0DO1rh4m3",
        "outputId": "b9e76674-742d-43e3-8489-6c0a91fb87b6"
      },
      "id": "7Oz0DO1rh4m3",
      "execution_count": 70,
      "outputs": [
        {
          "output_type": "stream",
          "name": "stdout",
          "text": [
            "Requirement already satisfied: catboost in /usr/local/lib/python3.10/dist-packages (1.2.7)\n",
            "Requirement already satisfied: graphviz in /usr/local/lib/python3.10/dist-packages (from catboost) (0.20.3)\n",
            "Requirement already satisfied: matplotlib in /usr/local/lib/python3.10/dist-packages (from catboost) (3.8.0)\n",
            "Requirement already satisfied: numpy<2.0,>=1.16.0 in /usr/local/lib/python3.10/dist-packages (from catboost) (1.26.4)\n",
            "Requirement already satisfied: pandas>=0.24 in /usr/local/lib/python3.10/dist-packages (from catboost) (2.2.2)\n",
            "Requirement already satisfied: scipy in /usr/local/lib/python3.10/dist-packages (from catboost) (1.13.1)\n",
            "Requirement already satisfied: plotly in /usr/local/lib/python3.10/dist-packages (from catboost) (5.24.1)\n",
            "Requirement already satisfied: six in /usr/local/lib/python3.10/dist-packages (from catboost) (1.16.0)\n",
            "Requirement already satisfied: python-dateutil>=2.8.2 in /usr/local/lib/python3.10/dist-packages (from pandas>=0.24->catboost) (2.8.2)\n",
            "Requirement already satisfied: pytz>=2020.1 in /usr/local/lib/python3.10/dist-packages (from pandas>=0.24->catboost) (2024.2)\n",
            "Requirement already satisfied: tzdata>=2022.7 in /usr/local/lib/python3.10/dist-packages (from pandas>=0.24->catboost) (2024.2)\n",
            "Requirement already satisfied: contourpy>=1.0.1 in /usr/local/lib/python3.10/dist-packages (from matplotlib->catboost) (1.3.1)\n",
            "Requirement already satisfied: cycler>=0.10 in /usr/local/lib/python3.10/dist-packages (from matplotlib->catboost) (0.12.1)\n",
            "Requirement already satisfied: fonttools>=4.22.0 in /usr/local/lib/python3.10/dist-packages (from matplotlib->catboost) (4.55.0)\n",
            "Requirement already satisfied: kiwisolver>=1.0.1 in /usr/local/lib/python3.10/dist-packages (from matplotlib->catboost) (1.4.7)\n",
            "Requirement already satisfied: packaging>=20.0 in /usr/local/lib/python3.10/dist-packages (from matplotlib->catboost) (24.2)\n",
            "Requirement already satisfied: pillow>=6.2.0 in /usr/local/lib/python3.10/dist-packages (from matplotlib->catboost) (11.0.0)\n",
            "Requirement already satisfied: pyparsing>=2.3.1 in /usr/local/lib/python3.10/dist-packages (from matplotlib->catboost) (3.2.0)\n",
            "Requirement already satisfied: tenacity>=6.2.0 in /usr/local/lib/python3.10/dist-packages (from plotly->catboost) (9.0.0)\n"
          ]
        }
      ]
    },
    {
      "cell_type": "markdown",
      "id": "929e7901",
      "metadata": {
        "id": "929e7901"
      },
      "source": [
        "### Model Building"
      ]
    },
    {
      "cell_type": "code",
      "execution_count": 71,
      "id": "0fca617f",
      "metadata": {
        "id": "0fca617f"
      },
      "outputs": [],
      "source": [
        "from sklearn.preprocessing import OneHotEncoder, StandardScaler, PowerTransformer, LabelEncoder, OrdinalEncoder, RobustScaler\n",
        "from sklearn.compose import ColumnTransformer\n",
        "from sklearn.pipeline import Pipeline\n",
        "from sklearn.impute import SimpleImputer\n",
        "from sklearn.metrics import mean_squared_error, r2_score\n",
        "from sklearn.neighbors import KNeighborsRegressor\n",
        "from sklearn.tree import DecisionTreeRegressor\n",
        "from sklearn.ensemble import RandomForestRegressor,AdaBoostRegressor\n",
        "from sklearn.svm import SVR\n",
        "from sklearn.linear_model import LinearRegression, Ridge,Lasso\n",
        "from sklearn.metrics import r2_score, mean_absolute_error, mean_squared_error\n",
        "from sklearn.model_selection import RandomizedSearchCV, train_test_split, GridSearchCV\n",
        "from catboost import CatBoostRegressor\n",
        "from xgboost import XGBRegressor\n",
        "from sklearn.svm import SVR"
      ]
    },
    {
      "cell_type": "markdown",
      "id": "53c90b6d",
      "metadata": {
        "id": "53c90b6d"
      },
      "source": [
        "### Split X and y"
      ]
    },
    {
      "cell_type": "code",
      "execution_count": 72,
      "id": "f3e47086",
      "metadata": {
        "id": "f3e47086"
      },
      "outputs": [],
      "source": [
        "X = df.drop(columns = ['Cost'], axis=1)\n",
        "y = np.abs(df['Cost'])"
      ]
    },
    {
      "cell_type": "code",
      "execution_count": 73,
      "id": "ce8f1d71",
      "metadata": {
        "id": "ce8f1d71"
      },
      "outputs": [],
      "source": [
        "y = np.log1p(y)"
      ]
    },
    {
      "cell_type": "markdown",
      "id": "86f50096",
      "metadata": {
        "id": "86f50096"
      },
      "source": [
        "## Train Test Split\n",
        "\n",
        "* The train-test split procedure is used to estimate the performance of machine learning algorithms when they are used to make predictions on data not used to train the model.\n",
        "\n",
        "* It is a fast and easy procedure to perform, the results of which allow you to compare the performance of machine learning algorithms."
      ]
    },
    {
      "cell_type": "code",
      "execution_count": 74,
      "id": "8fb7ddb3",
      "metadata": {
        "id": "8fb7ddb3"
      },
      "outputs": [],
      "source": [
        "X_train, X_test, y_train, y_test = train_test_split(X, y, test_size=0.2, random_state=42)"
      ]
    },
    {
      "cell_type": "markdown",
      "id": "19857f2b",
      "metadata": {
        "id": "19857f2b"
      },
      "source": [
        "## Feature Encoding and Scaling"
      ]
    },
    {
      "cell_type": "markdown",
      "id": "d9c31e36",
      "metadata": {
        "id": "d9c31e36"
      },
      "source": [
        "**Selecting Numerical and categorical features for feature scaling**"
      ]
    },
    {
      "cell_type": "code",
      "execution_count": 75,
      "id": "dfe8d433",
      "metadata": {
        "colab": {
          "base_uri": "https://localhost:8080/"
        },
        "id": "dfe8d433",
        "outputId": "b467a0eb-ca32-4def-d3e7-606b53c08921"
      },
      "outputs": [
        {
          "output_type": "execute_result",
          "data": {
            "text/plain": [
              "(['Artist Reputation',\n",
              "  'Height',\n",
              "  'Width',\n",
              "  'Base Shipping Price',\n",
              "  'Month',\n",
              "  'Year'],\n",
              " ['Material',\n",
              "  'International',\n",
              "  'Express Shipment',\n",
              "  'Installation Included',\n",
              "  'Transport',\n",
              "  'Fragile',\n",
              "  'Customer Information',\n",
              "  'Remote Location'],\n",
              " ['Price Of Sculpture', 'Weight'])"
            ]
          },
          "metadata": {},
          "execution_count": 75
        }
      ],
      "source": [
        "numeric_features = [x for x in numeric_features if x not in outlier_feature]\n",
        "categorical_features = [x for x in non_numeric_features if x not in to_drop_columns]\n",
        "\n",
        "(numeric_features), (categorical_features), (outlier_feature)"
      ]
    },
    {
      "cell_type": "markdown",
      "id": "067a1d5d",
      "metadata": {
        "id": "067a1d5d"
      },
      "source": [
        "* **Mean imputer:** Since we handeled outlier by powertransformer for the continuous features the mean and median of the features are nearly same. When there are no outliers mean performs an a better imputer.\n",
        "* **Standardscaler:** As the features distribution are nearly normal we use standard scaler.\n",
        "* **Power Transformer:** Since avg_glucose_level are skewed we use Power Transformer on them"
      ]
    },
    {
      "cell_type": "code",
      "execution_count": 76,
      "id": "b91c86f4",
      "metadata": {
        "id": "b91c86f4"
      },
      "outputs": [],
      "source": [
        "numeric_features_pipeline = Pipeline(steps=[\n",
        "    ('imputer', SimpleImputer(strategy='mean')),\n",
        "    ('scaler', RobustScaler())\n",
        "])\n",
        "\n",
        "categorical_features_pipeline = Pipeline(steps=[\n",
        "    ('imputer', SimpleImputer(strategy='most_frequent')),\n",
        "    ('one_hot_encoder', OneHotEncoder()),\n",
        "]\n",
        ")\n",
        "\n",
        "outliers_features_pipeline = Pipeline(steps=[\n",
        "    ('imputer', SimpleImputer(strategy='median')),\n",
        "    ('transformer', PowerTransformer(standardize=True))\n",
        "])\n",
        "\n",
        "preprocessor = ColumnTransformer(\n",
        "    [\n",
        "        (\"Numeric Pipeline\",numeric_features_pipeline, numeric_features),\n",
        "        (\"Categorical Features Pipeline\",categorical_features_pipeline, categorical_features),\n",
        "        (\"Outliers Features Pipeline\", outliers_features_pipeline, outlier_feature)\n",
        "]\n",
        ")"
      ]
    },
    {
      "cell_type": "code",
      "execution_count": 77,
      "id": "7ef7bea6",
      "metadata": {
        "id": "7ef7bea6"
      },
      "outputs": [],
      "source": [
        "X_train = preprocessor.fit_transform(X_train)\n",
        "X_test = preprocessor.transform(X_test)"
      ]
    },
    {
      "cell_type": "markdown",
      "id": "5a663b2b",
      "metadata": {
        "id": "5a663b2b"
      },
      "source": [
        "## Model Selection\n",
        "* **Here should understand the Various Classification models with default values from these models we can choose top 4 with Highest Accuracy score and proceed with HyperParameter Tuning**"
      ]
    },
    {
      "cell_type": "code",
      "execution_count": 78,
      "id": "945fae70",
      "metadata": {
        "id": "945fae70"
      },
      "outputs": [],
      "source": [
        "# functions which takes true and predicted values to calculate metrics\n",
        "def evaluate_reg(true, predicted):\n",
        "    mae = mean_absolute_error(true, predicted)\n",
        "    mse = mean_squared_error(true, predicted)\n",
        "    rmse = np.sqrt(mean_squared_error(true, predicted))\n",
        "    r2_square = r2_score(true, predicted)\n",
        "    return mae, rmse, r2_square"
      ]
    },
    {
      "cell_type": "code",
      "execution_count": 79,
      "id": "e435dbd2",
      "metadata": {
        "id": "e435dbd2"
      },
      "outputs": [],
      "source": [
        "# function which can evaluate models and return a report\n",
        "def evaluate_models(X_train, X_test, y_train, y_test, models):\n",
        "    '''\n",
        "    This function takes in X and y and models dictionary as input\n",
        "    It splits the data into Train Test split\n",
        "    Iterates through the given model dictionary and evaluates the metrics\n",
        "    Returns: Dataframe which contains report of all models metrics with cost\n",
        "    '''\n",
        "    models_list = []\n",
        "    r2_list = []\n",
        "\n",
        "    for i in range(len(list(models))):\n",
        "        model = list(models.values())[i]\n",
        "        model.fit(X_train, y_train) # Train model\n",
        "\n",
        "        # Make predictions\n",
        "        y_train_pred = model.predict(X_train)\n",
        "        y_test_pred = model.predict(X_test)\n",
        "\n",
        "        # Evaluate Train and Test dataset\n",
        "        model_train_mae , model_train_rmse, model_train_r2 = evaluate_reg(y_train, y_train_pred)\n",
        "\n",
        "        model_test_mae , model_test_rmse, model_test_r2 = evaluate_reg(y_test, y_test_pred)\n",
        "\n",
        "\n",
        "        print(list(models.keys())[i])\n",
        "        models_list.append(list(models.keys())[i])\n",
        "\n",
        "        print('Model performance for Training set')\n",
        "        print(\"- Root Mean Squared Error: {:.4f}\".format(model_train_rmse))\n",
        "        print(\"- Mean Absolute Error: {:.4f}\".format(model_train_mae))\n",
        "        print(\"- R2 Score: {:.4f}\".format(model_train_r2))\n",
        "\n",
        "        print('----------------------------------')\n",
        "\n",
        "        print('Model performance for Test set')\n",
        "        print(\"- Root Mean Squared Error: {:.4f}\".format(model_test_rmse))\n",
        "        print(\"- Mean Absolute Error: {:.4f}\".format(model_test_mae))\n",
        "        print(\"- R2 Score: {:.4f}\".format(model_test_r2))\n",
        "        r2_list.append(model_test_r2)\n",
        "\n",
        "        print('='*35)\n",
        "        print('\\n')\n",
        "\n",
        "    report=pd.DataFrame(list(zip(models_list, r2_list)), columns=['Model Name', 'r2_score']).sort_values(by=['r2_score'], ascending=False)\n",
        "\n",
        "    return report"
      ]
    },
    {
      "cell_type": "code",
      "execution_count": 80,
      "id": "689f46bf",
      "metadata": {
        "id": "689f46bf"
      },
      "outputs": [],
      "source": [
        "# Initialize models required for model\n",
        "models = {\n",
        "    \"Linear Regression\": LinearRegression(),\n",
        "    \"K-Neighbors Regressor\": KNeighborsRegressor(),\n",
        "    \"Decision Tree\": DecisionTreeRegressor(),\n",
        "    \"Random Forest Regressor\": RandomForestRegressor(),\n",
        "    \"XGBRegressor\": XGBRegressor(),\n",
        "    \"CatBoosting Regressor\": CatBoostRegressor(verbose=False, max_depth=5),\n",
        "    \"AdaBoost Regressor\": AdaBoostRegressor(),\n",
        "    \"SVR\": SVR()\n",
        "}"
      ]
    },
    {
      "cell_type": "code",
      "execution_count": 81,
      "id": "be3ef10c",
      "metadata": {
        "colab": {
          "base_uri": "https://localhost:8080/"
        },
        "id": "be3ef10c",
        "outputId": "b9dc34ec-3cf2-4de8-c6d8-6824d3fde699"
      },
      "outputs": [
        {
          "output_type": "stream",
          "name": "stdout",
          "text": [
            "Linear Regression\n",
            "Model performance for Training set\n",
            "- Root Mean Squared Error: 0.7357\n",
            "- Mean Absolute Error: 0.4971\n",
            "- R2 Score: 0.8014\n",
            "----------------------------------\n",
            "Model performance for Test set\n",
            "- Root Mean Squared Error: 0.6966\n",
            "- Mean Absolute Error: 0.4841\n",
            "- R2 Score: 0.8218\n",
            "===================================\n",
            "\n",
            "\n",
            "K-Neighbors Regressor\n",
            "Model performance for Training set\n",
            "- Root Mean Squared Error: 0.5675\n",
            "- Mean Absolute Error: 0.3614\n",
            "- R2 Score: 0.8818\n",
            "----------------------------------\n",
            "Model performance for Test set\n",
            "- Root Mean Squared Error: 0.6588\n",
            "- Mean Absolute Error: 0.4263\n",
            "- R2 Score: 0.8406\n",
            "===================================\n",
            "\n",
            "\n",
            "Decision Tree\n",
            "Model performance for Training set\n",
            "- Root Mean Squared Error: 0.0000\n",
            "- Mean Absolute Error: 0.0000\n",
            "- R2 Score: 1.0000\n",
            "----------------------------------\n",
            "Model performance for Test set\n",
            "- Root Mean Squared Error: 0.5233\n",
            "- Mean Absolute Error: 0.3293\n",
            "- R2 Score: 0.8994\n",
            "===================================\n",
            "\n",
            "\n",
            "Random Forest Regressor\n",
            "Model performance for Training set\n",
            "- Root Mean Squared Error: 0.1233\n",
            "- Mean Absolute Error: 0.0791\n",
            "- R2 Score: 0.9944\n",
            "----------------------------------\n",
            "Model performance for Test set\n",
            "- Root Mean Squared Error: 0.3503\n",
            "- Mean Absolute Error: 0.2034\n",
            "- R2 Score: 0.9549\n",
            "===================================\n",
            "\n",
            "\n",
            "XGBRegressor\n",
            "Model performance for Training set\n",
            "- Root Mean Squared Error: 0.0997\n",
            "- Mean Absolute Error: 0.0658\n",
            "- R2 Score: 0.9964\n",
            "----------------------------------\n",
            "Model performance for Test set\n",
            "- Root Mean Squared Error: 0.3148\n",
            "- Mean Absolute Error: 0.1846\n",
            "- R2 Score: 0.9636\n",
            "===================================\n",
            "\n",
            "\n",
            "CatBoosting Regressor\n",
            "Model performance for Training set\n",
            "- Root Mean Squared Error: 0.1831\n",
            "- Mean Absolute Error: 0.1178\n",
            "- R2 Score: 0.9877\n",
            "----------------------------------\n",
            "Model performance for Test set\n",
            "- Root Mean Squared Error: 0.2771\n",
            "- Mean Absolute Error: 0.1628\n",
            "- R2 Score: 0.9718\n",
            "===================================\n",
            "\n",
            "\n",
            "AdaBoost Regressor\n",
            "Model performance for Training set\n",
            "- Root Mean Squared Error: 0.6010\n",
            "- Mean Absolute Error: 0.5035\n",
            "- R2 Score: 0.8675\n",
            "----------------------------------\n",
            "Model performance for Test set\n",
            "- Root Mean Squared Error: 0.6356\n",
            "- Mean Absolute Error: 0.5157\n",
            "- R2 Score: 0.8516\n",
            "===================================\n",
            "\n",
            "\n",
            "SVR\n",
            "Model performance for Training set\n",
            "- Root Mean Squared Error: 0.4694\n",
            "- Mean Absolute Error: 0.2297\n",
            "- R2 Score: 0.9192\n",
            "----------------------------------\n",
            "Model performance for Test set\n",
            "- Root Mean Squared Error: 0.4866\n",
            "- Mean Absolute Error: 0.2585\n",
            "- R2 Score: 0.9130\n",
            "===================================\n",
            "\n",
            "\n"
          ]
        }
      ],
      "source": [
        "base_report = evaluate_models(X_train, X_test, y_train, y_test, models)"
      ]
    },
    {
      "cell_type": "code",
      "execution_count": 82,
      "id": "9533425a",
      "metadata": {
        "colab": {
          "base_uri": "https://localhost:8080/",
          "height": 300
        },
        "id": "9533425a",
        "outputId": "1e36b12a-5b96-41cb-cca6-7612f993bfa1"
      },
      "outputs": [
        {
          "output_type": "execute_result",
          "data": {
            "text/plain": [
              "                Model Name  r2_score\n",
              "5    CatBoosting Regressor  0.971792\n",
              "4             XGBRegressor  0.963607\n",
              "3  Random Forest Regressor  0.954931\n",
              "7                      SVR  0.913034\n",
              "2            Decision Tree  0.899418\n",
              "6       AdaBoost Regressor  0.851581\n",
              "1    K-Neighbors Regressor  0.840555\n",
              "0        Linear Regression  0.821773"
            ],
            "text/html": [
              "\n",
              "  <div id=\"df-0ca40b50-cd4e-48bb-a3c8-c1de570bfc27\" class=\"colab-df-container\">\n",
              "    <div>\n",
              "<style scoped>\n",
              "    .dataframe tbody tr th:only-of-type {\n",
              "        vertical-align: middle;\n",
              "    }\n",
              "\n",
              "    .dataframe tbody tr th {\n",
              "        vertical-align: top;\n",
              "    }\n",
              "\n",
              "    .dataframe thead th {\n",
              "        text-align: right;\n",
              "    }\n",
              "</style>\n",
              "<table border=\"1\" class=\"dataframe\">\n",
              "  <thead>\n",
              "    <tr style=\"text-align: right;\">\n",
              "      <th></th>\n",
              "      <th>Model Name</th>\n",
              "      <th>r2_score</th>\n",
              "    </tr>\n",
              "  </thead>\n",
              "  <tbody>\n",
              "    <tr>\n",
              "      <th>5</th>\n",
              "      <td>CatBoosting Regressor</td>\n",
              "      <td>0.971792</td>\n",
              "    </tr>\n",
              "    <tr>\n",
              "      <th>4</th>\n",
              "      <td>XGBRegressor</td>\n",
              "      <td>0.963607</td>\n",
              "    </tr>\n",
              "    <tr>\n",
              "      <th>3</th>\n",
              "      <td>Random Forest Regressor</td>\n",
              "      <td>0.954931</td>\n",
              "    </tr>\n",
              "    <tr>\n",
              "      <th>7</th>\n",
              "      <td>SVR</td>\n",
              "      <td>0.913034</td>\n",
              "    </tr>\n",
              "    <tr>\n",
              "      <th>2</th>\n",
              "      <td>Decision Tree</td>\n",
              "      <td>0.899418</td>\n",
              "    </tr>\n",
              "    <tr>\n",
              "      <th>6</th>\n",
              "      <td>AdaBoost Regressor</td>\n",
              "      <td>0.851581</td>\n",
              "    </tr>\n",
              "    <tr>\n",
              "      <th>1</th>\n",
              "      <td>K-Neighbors Regressor</td>\n",
              "      <td>0.840555</td>\n",
              "    </tr>\n",
              "    <tr>\n",
              "      <th>0</th>\n",
              "      <td>Linear Regression</td>\n",
              "      <td>0.821773</td>\n",
              "    </tr>\n",
              "  </tbody>\n",
              "</table>\n",
              "</div>\n",
              "    <div class=\"colab-df-buttons\">\n",
              "\n",
              "  <div class=\"colab-df-container\">\n",
              "    <button class=\"colab-df-convert\" onclick=\"convertToInteractive('df-0ca40b50-cd4e-48bb-a3c8-c1de570bfc27')\"\n",
              "            title=\"Convert this dataframe to an interactive table.\"\n",
              "            style=\"display:none;\">\n",
              "\n",
              "  <svg xmlns=\"http://www.w3.org/2000/svg\" height=\"24px\" viewBox=\"0 -960 960 960\">\n",
              "    <path d=\"M120-120v-720h720v720H120Zm60-500h600v-160H180v160Zm220 220h160v-160H400v160Zm0 220h160v-160H400v160ZM180-400h160v-160H180v160Zm440 0h160v-160H620v160ZM180-180h160v-160H180v160Zm440 0h160v-160H620v160Z\"/>\n",
              "  </svg>\n",
              "    </button>\n",
              "\n",
              "  <style>\n",
              "    .colab-df-container {\n",
              "      display:flex;\n",
              "      gap: 12px;\n",
              "    }\n",
              "\n",
              "    .colab-df-convert {\n",
              "      background-color: #E8F0FE;\n",
              "      border: none;\n",
              "      border-radius: 50%;\n",
              "      cursor: pointer;\n",
              "      display: none;\n",
              "      fill: #1967D2;\n",
              "      height: 32px;\n",
              "      padding: 0 0 0 0;\n",
              "      width: 32px;\n",
              "    }\n",
              "\n",
              "    .colab-df-convert:hover {\n",
              "      background-color: #E2EBFA;\n",
              "      box-shadow: 0px 1px 2px rgba(60, 64, 67, 0.3), 0px 1px 3px 1px rgba(60, 64, 67, 0.15);\n",
              "      fill: #174EA6;\n",
              "    }\n",
              "\n",
              "    .colab-df-buttons div {\n",
              "      margin-bottom: 4px;\n",
              "    }\n",
              "\n",
              "    [theme=dark] .colab-df-convert {\n",
              "      background-color: #3B4455;\n",
              "      fill: #D2E3FC;\n",
              "    }\n",
              "\n",
              "    [theme=dark] .colab-df-convert:hover {\n",
              "      background-color: #434B5C;\n",
              "      box-shadow: 0px 1px 3px 1px rgba(0, 0, 0, 0.15);\n",
              "      filter: drop-shadow(0px 1px 2px rgba(0, 0, 0, 0.3));\n",
              "      fill: #FFFFFF;\n",
              "    }\n",
              "  </style>\n",
              "\n",
              "    <script>\n",
              "      const buttonEl =\n",
              "        document.querySelector('#df-0ca40b50-cd4e-48bb-a3c8-c1de570bfc27 button.colab-df-convert');\n",
              "      buttonEl.style.display =\n",
              "        google.colab.kernel.accessAllowed ? 'block' : 'none';\n",
              "\n",
              "      async function convertToInteractive(key) {\n",
              "        const element = document.querySelector('#df-0ca40b50-cd4e-48bb-a3c8-c1de570bfc27');\n",
              "        const dataTable =\n",
              "          await google.colab.kernel.invokeFunction('convertToInteractive',\n",
              "                                                    [key], {});\n",
              "        if (!dataTable) return;\n",
              "\n",
              "        const docLinkHtml = 'Like what you see? Visit the ' +\n",
              "          '<a target=\"_blank\" href=https://colab.research.google.com/notebooks/data_table.ipynb>data table notebook</a>'\n",
              "          + ' to learn more about interactive tables.';\n",
              "        element.innerHTML = '';\n",
              "        dataTable['output_type'] = 'display_data';\n",
              "        await google.colab.output.renderOutput(dataTable, element);\n",
              "        const docLink = document.createElement('div');\n",
              "        docLink.innerHTML = docLinkHtml;\n",
              "        element.appendChild(docLink);\n",
              "      }\n",
              "    </script>\n",
              "  </div>\n",
              "\n",
              "\n",
              "<div id=\"df-cccd20d6-359e-4fc1-9110-34bccd20d14d\">\n",
              "  <button class=\"colab-df-quickchart\" onclick=\"quickchart('df-cccd20d6-359e-4fc1-9110-34bccd20d14d')\"\n",
              "            title=\"Suggest charts\"\n",
              "            style=\"display:none;\">\n",
              "\n",
              "<svg xmlns=\"http://www.w3.org/2000/svg\" height=\"24px\"viewBox=\"0 0 24 24\"\n",
              "     width=\"24px\">\n",
              "    <g>\n",
              "        <path d=\"M19 3H5c-1.1 0-2 .9-2 2v14c0 1.1.9 2 2 2h14c1.1 0 2-.9 2-2V5c0-1.1-.9-2-2-2zM9 17H7v-7h2v7zm4 0h-2V7h2v10zm4 0h-2v-4h2v4z\"/>\n",
              "    </g>\n",
              "</svg>\n",
              "  </button>\n",
              "\n",
              "<style>\n",
              "  .colab-df-quickchart {\n",
              "      --bg-color: #E8F0FE;\n",
              "      --fill-color: #1967D2;\n",
              "      --hover-bg-color: #E2EBFA;\n",
              "      --hover-fill-color: #174EA6;\n",
              "      --disabled-fill-color: #AAA;\n",
              "      --disabled-bg-color: #DDD;\n",
              "  }\n",
              "\n",
              "  [theme=dark] .colab-df-quickchart {\n",
              "      --bg-color: #3B4455;\n",
              "      --fill-color: #D2E3FC;\n",
              "      --hover-bg-color: #434B5C;\n",
              "      --hover-fill-color: #FFFFFF;\n",
              "      --disabled-bg-color: #3B4455;\n",
              "      --disabled-fill-color: #666;\n",
              "  }\n",
              "\n",
              "  .colab-df-quickchart {\n",
              "    background-color: var(--bg-color);\n",
              "    border: none;\n",
              "    border-radius: 50%;\n",
              "    cursor: pointer;\n",
              "    display: none;\n",
              "    fill: var(--fill-color);\n",
              "    height: 32px;\n",
              "    padding: 0;\n",
              "    width: 32px;\n",
              "  }\n",
              "\n",
              "  .colab-df-quickchart:hover {\n",
              "    background-color: var(--hover-bg-color);\n",
              "    box-shadow: 0 1px 2px rgba(60, 64, 67, 0.3), 0 1px 3px 1px rgba(60, 64, 67, 0.15);\n",
              "    fill: var(--button-hover-fill-color);\n",
              "  }\n",
              "\n",
              "  .colab-df-quickchart-complete:disabled,\n",
              "  .colab-df-quickchart-complete:disabled:hover {\n",
              "    background-color: var(--disabled-bg-color);\n",
              "    fill: var(--disabled-fill-color);\n",
              "    box-shadow: none;\n",
              "  }\n",
              "\n",
              "  .colab-df-spinner {\n",
              "    border: 2px solid var(--fill-color);\n",
              "    border-color: transparent;\n",
              "    border-bottom-color: var(--fill-color);\n",
              "    animation:\n",
              "      spin 1s steps(1) infinite;\n",
              "  }\n",
              "\n",
              "  @keyframes spin {\n",
              "    0% {\n",
              "      border-color: transparent;\n",
              "      border-bottom-color: var(--fill-color);\n",
              "      border-left-color: var(--fill-color);\n",
              "    }\n",
              "    20% {\n",
              "      border-color: transparent;\n",
              "      border-left-color: var(--fill-color);\n",
              "      border-top-color: var(--fill-color);\n",
              "    }\n",
              "    30% {\n",
              "      border-color: transparent;\n",
              "      border-left-color: var(--fill-color);\n",
              "      border-top-color: var(--fill-color);\n",
              "      border-right-color: var(--fill-color);\n",
              "    }\n",
              "    40% {\n",
              "      border-color: transparent;\n",
              "      border-right-color: var(--fill-color);\n",
              "      border-top-color: var(--fill-color);\n",
              "    }\n",
              "    60% {\n",
              "      border-color: transparent;\n",
              "      border-right-color: var(--fill-color);\n",
              "    }\n",
              "    80% {\n",
              "      border-color: transparent;\n",
              "      border-right-color: var(--fill-color);\n",
              "      border-bottom-color: var(--fill-color);\n",
              "    }\n",
              "    90% {\n",
              "      border-color: transparent;\n",
              "      border-bottom-color: var(--fill-color);\n",
              "    }\n",
              "  }\n",
              "</style>\n",
              "\n",
              "  <script>\n",
              "    async function quickchart(key) {\n",
              "      const quickchartButtonEl =\n",
              "        document.querySelector('#' + key + ' button');\n",
              "      quickchartButtonEl.disabled = true;  // To prevent multiple clicks.\n",
              "      quickchartButtonEl.classList.add('colab-df-spinner');\n",
              "      try {\n",
              "        const charts = await google.colab.kernel.invokeFunction(\n",
              "            'suggestCharts', [key], {});\n",
              "      } catch (error) {\n",
              "        console.error('Error during call to suggestCharts:', error);\n",
              "      }\n",
              "      quickchartButtonEl.classList.remove('colab-df-spinner');\n",
              "      quickchartButtonEl.classList.add('colab-df-quickchart-complete');\n",
              "    }\n",
              "    (() => {\n",
              "      let quickchartButtonEl =\n",
              "        document.querySelector('#df-cccd20d6-359e-4fc1-9110-34bccd20d14d button');\n",
              "      quickchartButtonEl.style.display =\n",
              "        google.colab.kernel.accessAllowed ? 'block' : 'none';\n",
              "    })();\n",
              "  </script>\n",
              "</div>\n",
              "\n",
              "  <div id=\"id_83165581-247d-4d1b-addb-cc9351e3ca2f\">\n",
              "    <style>\n",
              "      .colab-df-generate {\n",
              "        background-color: #E8F0FE;\n",
              "        border: none;\n",
              "        border-radius: 50%;\n",
              "        cursor: pointer;\n",
              "        display: none;\n",
              "        fill: #1967D2;\n",
              "        height: 32px;\n",
              "        padding: 0 0 0 0;\n",
              "        width: 32px;\n",
              "      }\n",
              "\n",
              "      .colab-df-generate:hover {\n",
              "        background-color: #E2EBFA;\n",
              "        box-shadow: 0px 1px 2px rgba(60, 64, 67, 0.3), 0px 1px 3px 1px rgba(60, 64, 67, 0.15);\n",
              "        fill: #174EA6;\n",
              "      }\n",
              "\n",
              "      [theme=dark] .colab-df-generate {\n",
              "        background-color: #3B4455;\n",
              "        fill: #D2E3FC;\n",
              "      }\n",
              "\n",
              "      [theme=dark] .colab-df-generate:hover {\n",
              "        background-color: #434B5C;\n",
              "        box-shadow: 0px 1px 3px 1px rgba(0, 0, 0, 0.15);\n",
              "        filter: drop-shadow(0px 1px 2px rgba(0, 0, 0, 0.3));\n",
              "        fill: #FFFFFF;\n",
              "      }\n",
              "    </style>\n",
              "    <button class=\"colab-df-generate\" onclick=\"generateWithVariable('base_report')\"\n",
              "            title=\"Generate code using this dataframe.\"\n",
              "            style=\"display:none;\">\n",
              "\n",
              "  <svg xmlns=\"http://www.w3.org/2000/svg\" height=\"24px\"viewBox=\"0 0 24 24\"\n",
              "       width=\"24px\">\n",
              "    <path d=\"M7,19H8.4L18.45,9,17,7.55,7,17.6ZM5,21V16.75L18.45,3.32a2,2,0,0,1,2.83,0l1.4,1.43a1.91,1.91,0,0,1,.58,1.4,1.91,1.91,0,0,1-.58,1.4L9.25,21ZM18.45,9,17,7.55Zm-12,3A5.31,5.31,0,0,0,4.9,8.1,5.31,5.31,0,0,0,1,6.5,5.31,5.31,0,0,0,4.9,4.9,5.31,5.31,0,0,0,6.5,1,5.31,5.31,0,0,0,8.1,4.9,5.31,5.31,0,0,0,12,6.5,5.46,5.46,0,0,0,6.5,12Z\"/>\n",
              "  </svg>\n",
              "    </button>\n",
              "    <script>\n",
              "      (() => {\n",
              "      const buttonEl =\n",
              "        document.querySelector('#id_83165581-247d-4d1b-addb-cc9351e3ca2f button.colab-df-generate');\n",
              "      buttonEl.style.display =\n",
              "        google.colab.kernel.accessAllowed ? 'block' : 'none';\n",
              "\n",
              "      buttonEl.onclick = () => {\n",
              "        google.colab.notebook.generateWithVariable('base_report');\n",
              "      }\n",
              "      })();\n",
              "    </script>\n",
              "  </div>\n",
              "\n",
              "    </div>\n",
              "  </div>\n"
            ],
            "application/vnd.google.colaboratory.intrinsic+json": {
              "type": "dataframe",
              "variable_name": "base_report",
              "summary": "{\n  \"name\": \"base_report\",\n  \"rows\": 8,\n  \"fields\": [\n    {\n      \"column\": \"Model Name\",\n      \"properties\": {\n        \"dtype\": \"string\",\n        \"num_unique_values\": 8,\n        \"samples\": [\n          \"XGBRegressor\",\n          \"AdaBoost Regressor\",\n          \"CatBoosting Regressor\"\n        ],\n        \"semantic_type\": \"\",\n        \"description\": \"\"\n      }\n    },\n    {\n      \"column\": \"r2_score\",\n      \"properties\": {\n        \"dtype\": \"number\",\n        \"std\": 0.0589797528042011,\n        \"min\": 0.821773093389544,\n        \"max\": 0.9717920744536205,\n        \"num_unique_values\": 8,\n        \"samples\": [\n          0.963606891864154,\n          0.851580964459052,\n          0.9717920744536205\n        ],\n        \"semantic_type\": \"\",\n        \"description\": \"\"\n      }\n    }\n  ]\n}"
            }
          },
          "metadata": {},
          "execution_count": 82
        }
      ],
      "source": [
        "base_report"
      ]
    },
    {
      "cell_type": "markdown",
      "id": "383f6510",
      "metadata": {
        "id": "383f6510"
      },
      "source": [
        "#### Hyperparameter Tuning"
      ]
    },
    {
      "cell_type": "code",
      "execution_count": 83,
      "id": "56411c1c",
      "metadata": {
        "id": "56411c1c"
      },
      "outputs": [],
      "source": [
        "#Initialize few parameter for Hyperparamter tuning\n",
        "rf_params = {\"max_depth\": [5, 8, 15, None, 10],\n",
        "             \"max_features\": [5, 7, \"auto\", 8],\n",
        "             \"min_samples_split\": [2, 8, 15, 20],\n",
        "             \"n_estimators\": [100, 200, 500, 1000]}\n",
        "\n",
        "xgboost_params = {\"learning_rate\": [0.1, 0.01],\n",
        "                  \"max_depth\": [5, 8, 12, 20, 30],\n",
        "                  \"n_estimators\": [100, 200, 300],\n",
        "                  \"colsample_bytree\": [0.5, 0.8, 1, 0.3, 0.4]}\n",
        "\n",
        "cat_params = {\"learning_rate\": [0.1, 0.01, 0.6, 0.5],\n",
        "              \"max_depth\": [4, 5, 6, 8, 12]}"
      ]
    },
    {
      "cell_type": "code",
      "execution_count": 84,
      "id": "40615606",
      "metadata": {
        "id": "40615606"
      },
      "outputs": [],
      "source": [
        "# Models list for Hyperparameter tuning\n",
        "randomcv_models = [(\"RF\", RandomForestRegressor(), rf_params),\n",
        "                   ('XGBoost', XGBRegressor(), xgboost_params),\n",
        "                   ('CatBoost', CatBoostRegressor(verbose=False), cat_params)\n",
        "                   ]"
      ]
    },
    {
      "cell_type": "code",
      "execution_count": 88,
      "id": "f064ad4d",
      "metadata": {
        "colab": {
          "base_uri": "https://localhost:8080/"
        },
        "id": "f064ad4d",
        "outputId": "4d60ee79-c8c1-47ef-e2dd-bbd86ced9ff7"
      },
      "outputs": [
        {
          "output_type": "stream",
          "name": "stdout",
          "text": [
            "Fitting 3 folds for each of 10 candidates, totalling 30 fits\n",
            "Fitting 3 folds for each of 10 candidates, totalling 30 fits\n",
            "Fitting 3 folds for each of 10 candidates, totalling 30 fits\n",
            "---------------- Best Params for RF -------------------\n",
            "{'n_estimators': 100, 'min_samples_split': 2, 'max_features': 8, 'max_depth': None}\n",
            "---------------- Best Params for XGBoost -------------------\n",
            "{'n_estimators': 300, 'max_depth': 12, 'learning_rate': 0.1, 'colsample_bytree': 0.8}\n",
            "---------------- Best Params for CatBoost -------------------\n",
            "{'max_depth': 5, 'learning_rate': 0.1}\n"
          ]
        }
      ],
      "source": [
        "from sklearn.model_selection import RandomizedSearchCV\n",
        "\n",
        "model_param = {}\n",
        "for name, model, params in randomcv_models:\n",
        "    random = RandomizedSearchCV(estimator=model,\n",
        "                                   param_distributions=params,\n",
        "                                   n_iter=10,\n",
        "                                   cv=3,\n",
        "                                   verbose=1,\n",
        "                                   n_jobs=-1)\n",
        "    random.fit(X_train, y_train)\n",
        "    model_param[name] = random.best_params_\n",
        "\n",
        "for model_name in model_param:\n",
        "    print(f\"---------------- Best Params for {model_name} -------------------\")\n",
        "    print(model_param[model_name])"
      ]
    },
    {
      "cell_type": "code",
      "execution_count": 90,
      "id": "bd91eb38",
      "metadata": {
        "id": "bd91eb38"
      },
      "outputs": [],
      "source": [
        "# reInitialize models with best parameters\n",
        "models = {\n",
        "    \"Random Forest Regressor\": RandomForestRegressor(**model_param['RF'], n_jobs=-1),\n",
        "    \"XGBRegressor\": XGBRegressor(**model_param['XGBoost'], n_jobs=-1),\n",
        "     \"CatBoosting Regressor\": CatBoostRegressor(**model_param['CatBoost'],verbose=False)\n",
        "}"
      ]
    },
    {
      "cell_type": "code",
      "execution_count": 91,
      "id": "6d3224cb",
      "metadata": {
        "colab": {
          "base_uri": "https://localhost:8080/"
        },
        "id": "6d3224cb",
        "outputId": "7b337c2a-fa81-4a1a-f0af-4a5be79855a0"
      },
      "outputs": [
        {
          "output_type": "stream",
          "name": "stdout",
          "text": [
            "Random Forest Regressor\n",
            "Model performance for Training set\n",
            "- Root Mean Squared Error: 0.1460\n",
            "- Mean Absolute Error: 0.0910\n",
            "- R2 Score: 0.9922\n",
            "----------------------------------\n",
            "Model performance for Test set\n",
            "- Root Mean Squared Error: 0.3679\n",
            "- Mean Absolute Error: 0.2305\n",
            "- R2 Score: 0.9503\n",
            "===================================\n",
            "\n",
            "\n",
            "XGBRegressor\n",
            "Model performance for Training set\n",
            "- Root Mean Squared Error: 0.0020\n",
            "- Mean Absolute Error: 0.0011\n",
            "- R2 Score: 1.0000\n",
            "----------------------------------\n",
            "Model performance for Test set\n",
            "- Root Mean Squared Error: 0.3278\n",
            "- Mean Absolute Error: 0.1972\n",
            "- R2 Score: 0.9605\n",
            "===================================\n",
            "\n",
            "\n",
            "CatBoosting Regressor\n",
            "Model performance for Training set\n",
            "- Root Mean Squared Error: 0.1461\n",
            "- Mean Absolute Error: 0.0956\n",
            "- R2 Score: 0.9922\n",
            "----------------------------------\n",
            "Model performance for Test set\n",
            "- Root Mean Squared Error: 0.2789\n",
            "- Mean Absolute Error: 0.1609\n",
            "- R2 Score: 0.9714\n",
            "===================================\n",
            "\n",
            "\n"
          ]
        }
      ],
      "source": [
        "retrained_report = evaluate_models(X_train, X_test, y_train, y_test, models)"
      ]
    },
    {
      "cell_type": "code",
      "execution_count": 92,
      "id": "81b0b6ea",
      "metadata": {
        "colab": {
          "base_uri": "https://localhost:8080/",
          "height": 143
        },
        "id": "81b0b6ea",
        "outputId": "6e163834-ab97-41e6-9e27-1d15fc7f3d3b"
      },
      "outputs": [
        {
          "output_type": "execute_result",
          "data": {
            "text/plain": [
              "                Model Name  r2_score\n",
              "2    CatBoosting Regressor  0.971419\n",
              "1             XGBRegressor  0.960523\n",
              "0  Random Forest Regressor  0.950293"
            ],
            "text/html": [
              "\n",
              "  <div id=\"df-cd897074-46c9-436f-9d21-4f3c604bc601\" class=\"colab-df-container\">\n",
              "    <div>\n",
              "<style scoped>\n",
              "    .dataframe tbody tr th:only-of-type {\n",
              "        vertical-align: middle;\n",
              "    }\n",
              "\n",
              "    .dataframe tbody tr th {\n",
              "        vertical-align: top;\n",
              "    }\n",
              "\n",
              "    .dataframe thead th {\n",
              "        text-align: right;\n",
              "    }\n",
              "</style>\n",
              "<table border=\"1\" class=\"dataframe\">\n",
              "  <thead>\n",
              "    <tr style=\"text-align: right;\">\n",
              "      <th></th>\n",
              "      <th>Model Name</th>\n",
              "      <th>r2_score</th>\n",
              "    </tr>\n",
              "  </thead>\n",
              "  <tbody>\n",
              "    <tr>\n",
              "      <th>2</th>\n",
              "      <td>CatBoosting Regressor</td>\n",
              "      <td>0.971419</td>\n",
              "    </tr>\n",
              "    <tr>\n",
              "      <th>1</th>\n",
              "      <td>XGBRegressor</td>\n",
              "      <td>0.960523</td>\n",
              "    </tr>\n",
              "    <tr>\n",
              "      <th>0</th>\n",
              "      <td>Random Forest Regressor</td>\n",
              "      <td>0.950293</td>\n",
              "    </tr>\n",
              "  </tbody>\n",
              "</table>\n",
              "</div>\n",
              "    <div class=\"colab-df-buttons\">\n",
              "\n",
              "  <div class=\"colab-df-container\">\n",
              "    <button class=\"colab-df-convert\" onclick=\"convertToInteractive('df-cd897074-46c9-436f-9d21-4f3c604bc601')\"\n",
              "            title=\"Convert this dataframe to an interactive table.\"\n",
              "            style=\"display:none;\">\n",
              "\n",
              "  <svg xmlns=\"http://www.w3.org/2000/svg\" height=\"24px\" viewBox=\"0 -960 960 960\">\n",
              "    <path d=\"M120-120v-720h720v720H120Zm60-500h600v-160H180v160Zm220 220h160v-160H400v160Zm0 220h160v-160H400v160ZM180-400h160v-160H180v160Zm440 0h160v-160H620v160ZM180-180h160v-160H180v160Zm440 0h160v-160H620v160Z\"/>\n",
              "  </svg>\n",
              "    </button>\n",
              "\n",
              "  <style>\n",
              "    .colab-df-container {\n",
              "      display:flex;\n",
              "      gap: 12px;\n",
              "    }\n",
              "\n",
              "    .colab-df-convert {\n",
              "      background-color: #E8F0FE;\n",
              "      border: none;\n",
              "      border-radius: 50%;\n",
              "      cursor: pointer;\n",
              "      display: none;\n",
              "      fill: #1967D2;\n",
              "      height: 32px;\n",
              "      padding: 0 0 0 0;\n",
              "      width: 32px;\n",
              "    }\n",
              "\n",
              "    .colab-df-convert:hover {\n",
              "      background-color: #E2EBFA;\n",
              "      box-shadow: 0px 1px 2px rgba(60, 64, 67, 0.3), 0px 1px 3px 1px rgba(60, 64, 67, 0.15);\n",
              "      fill: #174EA6;\n",
              "    }\n",
              "\n",
              "    .colab-df-buttons div {\n",
              "      margin-bottom: 4px;\n",
              "    }\n",
              "\n",
              "    [theme=dark] .colab-df-convert {\n",
              "      background-color: #3B4455;\n",
              "      fill: #D2E3FC;\n",
              "    }\n",
              "\n",
              "    [theme=dark] .colab-df-convert:hover {\n",
              "      background-color: #434B5C;\n",
              "      box-shadow: 0px 1px 3px 1px rgba(0, 0, 0, 0.15);\n",
              "      filter: drop-shadow(0px 1px 2px rgba(0, 0, 0, 0.3));\n",
              "      fill: #FFFFFF;\n",
              "    }\n",
              "  </style>\n",
              "\n",
              "    <script>\n",
              "      const buttonEl =\n",
              "        document.querySelector('#df-cd897074-46c9-436f-9d21-4f3c604bc601 button.colab-df-convert');\n",
              "      buttonEl.style.display =\n",
              "        google.colab.kernel.accessAllowed ? 'block' : 'none';\n",
              "\n",
              "      async function convertToInteractive(key) {\n",
              "        const element = document.querySelector('#df-cd897074-46c9-436f-9d21-4f3c604bc601');\n",
              "        const dataTable =\n",
              "          await google.colab.kernel.invokeFunction('convertToInteractive',\n",
              "                                                    [key], {});\n",
              "        if (!dataTable) return;\n",
              "\n",
              "        const docLinkHtml = 'Like what you see? Visit the ' +\n",
              "          '<a target=\"_blank\" href=https://colab.research.google.com/notebooks/data_table.ipynb>data table notebook</a>'\n",
              "          + ' to learn more about interactive tables.';\n",
              "        element.innerHTML = '';\n",
              "        dataTable['output_type'] = 'display_data';\n",
              "        await google.colab.output.renderOutput(dataTable, element);\n",
              "        const docLink = document.createElement('div');\n",
              "        docLink.innerHTML = docLinkHtml;\n",
              "        element.appendChild(docLink);\n",
              "      }\n",
              "    </script>\n",
              "  </div>\n",
              "\n",
              "\n",
              "<div id=\"df-04bc1cbb-829d-475c-8309-e24021efca54\">\n",
              "  <button class=\"colab-df-quickchart\" onclick=\"quickchart('df-04bc1cbb-829d-475c-8309-e24021efca54')\"\n",
              "            title=\"Suggest charts\"\n",
              "            style=\"display:none;\">\n",
              "\n",
              "<svg xmlns=\"http://www.w3.org/2000/svg\" height=\"24px\"viewBox=\"0 0 24 24\"\n",
              "     width=\"24px\">\n",
              "    <g>\n",
              "        <path d=\"M19 3H5c-1.1 0-2 .9-2 2v14c0 1.1.9 2 2 2h14c1.1 0 2-.9 2-2V5c0-1.1-.9-2-2-2zM9 17H7v-7h2v7zm4 0h-2V7h2v10zm4 0h-2v-4h2v4z\"/>\n",
              "    </g>\n",
              "</svg>\n",
              "  </button>\n",
              "\n",
              "<style>\n",
              "  .colab-df-quickchart {\n",
              "      --bg-color: #E8F0FE;\n",
              "      --fill-color: #1967D2;\n",
              "      --hover-bg-color: #E2EBFA;\n",
              "      --hover-fill-color: #174EA6;\n",
              "      --disabled-fill-color: #AAA;\n",
              "      --disabled-bg-color: #DDD;\n",
              "  }\n",
              "\n",
              "  [theme=dark] .colab-df-quickchart {\n",
              "      --bg-color: #3B4455;\n",
              "      --fill-color: #D2E3FC;\n",
              "      --hover-bg-color: #434B5C;\n",
              "      --hover-fill-color: #FFFFFF;\n",
              "      --disabled-bg-color: #3B4455;\n",
              "      --disabled-fill-color: #666;\n",
              "  }\n",
              "\n",
              "  .colab-df-quickchart {\n",
              "    background-color: var(--bg-color);\n",
              "    border: none;\n",
              "    border-radius: 50%;\n",
              "    cursor: pointer;\n",
              "    display: none;\n",
              "    fill: var(--fill-color);\n",
              "    height: 32px;\n",
              "    padding: 0;\n",
              "    width: 32px;\n",
              "  }\n",
              "\n",
              "  .colab-df-quickchart:hover {\n",
              "    background-color: var(--hover-bg-color);\n",
              "    box-shadow: 0 1px 2px rgba(60, 64, 67, 0.3), 0 1px 3px 1px rgba(60, 64, 67, 0.15);\n",
              "    fill: var(--button-hover-fill-color);\n",
              "  }\n",
              "\n",
              "  .colab-df-quickchart-complete:disabled,\n",
              "  .colab-df-quickchart-complete:disabled:hover {\n",
              "    background-color: var(--disabled-bg-color);\n",
              "    fill: var(--disabled-fill-color);\n",
              "    box-shadow: none;\n",
              "  }\n",
              "\n",
              "  .colab-df-spinner {\n",
              "    border: 2px solid var(--fill-color);\n",
              "    border-color: transparent;\n",
              "    border-bottom-color: var(--fill-color);\n",
              "    animation:\n",
              "      spin 1s steps(1) infinite;\n",
              "  }\n",
              "\n",
              "  @keyframes spin {\n",
              "    0% {\n",
              "      border-color: transparent;\n",
              "      border-bottom-color: var(--fill-color);\n",
              "      border-left-color: var(--fill-color);\n",
              "    }\n",
              "    20% {\n",
              "      border-color: transparent;\n",
              "      border-left-color: var(--fill-color);\n",
              "      border-top-color: var(--fill-color);\n",
              "    }\n",
              "    30% {\n",
              "      border-color: transparent;\n",
              "      border-left-color: var(--fill-color);\n",
              "      border-top-color: var(--fill-color);\n",
              "      border-right-color: var(--fill-color);\n",
              "    }\n",
              "    40% {\n",
              "      border-color: transparent;\n",
              "      border-right-color: var(--fill-color);\n",
              "      border-top-color: var(--fill-color);\n",
              "    }\n",
              "    60% {\n",
              "      border-color: transparent;\n",
              "      border-right-color: var(--fill-color);\n",
              "    }\n",
              "    80% {\n",
              "      border-color: transparent;\n",
              "      border-right-color: var(--fill-color);\n",
              "      border-bottom-color: var(--fill-color);\n",
              "    }\n",
              "    90% {\n",
              "      border-color: transparent;\n",
              "      border-bottom-color: var(--fill-color);\n",
              "    }\n",
              "  }\n",
              "</style>\n",
              "\n",
              "  <script>\n",
              "    async function quickchart(key) {\n",
              "      const quickchartButtonEl =\n",
              "        document.querySelector('#' + key + ' button');\n",
              "      quickchartButtonEl.disabled = true;  // To prevent multiple clicks.\n",
              "      quickchartButtonEl.classList.add('colab-df-spinner');\n",
              "      try {\n",
              "        const charts = await google.colab.kernel.invokeFunction(\n",
              "            'suggestCharts', [key], {});\n",
              "      } catch (error) {\n",
              "        console.error('Error during call to suggestCharts:', error);\n",
              "      }\n",
              "      quickchartButtonEl.classList.remove('colab-df-spinner');\n",
              "      quickchartButtonEl.classList.add('colab-df-quickchart-complete');\n",
              "    }\n",
              "    (() => {\n",
              "      let quickchartButtonEl =\n",
              "        document.querySelector('#df-04bc1cbb-829d-475c-8309-e24021efca54 button');\n",
              "      quickchartButtonEl.style.display =\n",
              "        google.colab.kernel.accessAllowed ? 'block' : 'none';\n",
              "    })();\n",
              "  </script>\n",
              "</div>\n",
              "\n",
              "  <div id=\"id_0512e118-7c5c-4349-bb20-b378b422c71d\">\n",
              "    <style>\n",
              "      .colab-df-generate {\n",
              "        background-color: #E8F0FE;\n",
              "        border: none;\n",
              "        border-radius: 50%;\n",
              "        cursor: pointer;\n",
              "        display: none;\n",
              "        fill: #1967D2;\n",
              "        height: 32px;\n",
              "        padding: 0 0 0 0;\n",
              "        width: 32px;\n",
              "      }\n",
              "\n",
              "      .colab-df-generate:hover {\n",
              "        background-color: #E2EBFA;\n",
              "        box-shadow: 0px 1px 2px rgba(60, 64, 67, 0.3), 0px 1px 3px 1px rgba(60, 64, 67, 0.15);\n",
              "        fill: #174EA6;\n",
              "      }\n",
              "\n",
              "      [theme=dark] .colab-df-generate {\n",
              "        background-color: #3B4455;\n",
              "        fill: #D2E3FC;\n",
              "      }\n",
              "\n",
              "      [theme=dark] .colab-df-generate:hover {\n",
              "        background-color: #434B5C;\n",
              "        box-shadow: 0px 1px 3px 1px rgba(0, 0, 0, 0.15);\n",
              "        filter: drop-shadow(0px 1px 2px rgba(0, 0, 0, 0.3));\n",
              "        fill: #FFFFFF;\n",
              "      }\n",
              "    </style>\n",
              "    <button class=\"colab-df-generate\" onclick=\"generateWithVariable('retrained_report')\"\n",
              "            title=\"Generate code using this dataframe.\"\n",
              "            style=\"display:none;\">\n",
              "\n",
              "  <svg xmlns=\"http://www.w3.org/2000/svg\" height=\"24px\"viewBox=\"0 0 24 24\"\n",
              "       width=\"24px\">\n",
              "    <path d=\"M7,19H8.4L18.45,9,17,7.55,7,17.6ZM5,21V16.75L18.45,3.32a2,2,0,0,1,2.83,0l1.4,1.43a1.91,1.91,0,0,1,.58,1.4,1.91,1.91,0,0,1-.58,1.4L9.25,21ZM18.45,9,17,7.55Zm-12,3A5.31,5.31,0,0,0,4.9,8.1,5.31,5.31,0,0,0,1,6.5,5.31,5.31,0,0,0,4.9,4.9,5.31,5.31,0,0,0,6.5,1,5.31,5.31,0,0,0,8.1,4.9,5.31,5.31,0,0,0,12,6.5,5.46,5.46,0,0,0,6.5,12Z\"/>\n",
              "  </svg>\n",
              "    </button>\n",
              "    <script>\n",
              "      (() => {\n",
              "      const buttonEl =\n",
              "        document.querySelector('#id_0512e118-7c5c-4349-bb20-b378b422c71d button.colab-df-generate');\n",
              "      buttonEl.style.display =\n",
              "        google.colab.kernel.accessAllowed ? 'block' : 'none';\n",
              "\n",
              "      buttonEl.onclick = () => {\n",
              "        google.colab.notebook.generateWithVariable('retrained_report');\n",
              "      }\n",
              "      })();\n",
              "    </script>\n",
              "  </div>\n",
              "\n",
              "    </div>\n",
              "  </div>\n"
            ],
            "application/vnd.google.colaboratory.intrinsic+json": {
              "type": "dataframe",
              "variable_name": "retrained_report",
              "summary": "{\n  \"name\": \"retrained_report\",\n  \"rows\": 3,\n  \"fields\": [\n    {\n      \"column\": \"Model Name\",\n      \"properties\": {\n        \"dtype\": \"string\",\n        \"num_unique_values\": 3,\n        \"samples\": [\n          \"CatBoosting Regressor\",\n          \"XGBRegressor\",\n          \"Random Forest Regressor\"\n        ],\n        \"semantic_type\": \"\",\n        \"description\": \"\"\n      }\n    },\n    {\n      \"column\": \"r2_score\",\n      \"properties\": {\n        \"dtype\": \"number\",\n        \"std\": 0.010564645570155998,\n        \"min\": 0.9502932367770072,\n        \"max\": 0.9714190284262758,\n        \"num_unique_values\": 3,\n        \"samples\": [\n          0.9714190284262758,\n          0.9605231108864054,\n          0.9502932367770072\n        ],\n        \"semantic_type\": \"\",\n        \"description\": \"\"\n      }\n    }\n  ]\n}"
            }
          },
          "metadata": {},
          "execution_count": 92
        }
      ],
      "source": [
        "retrained_report"
      ]
    },
    {
      "cell_type": "markdown",
      "id": "90101850",
      "metadata": {
        "id": "90101850"
      },
      "source": [
        "### Best Model is CATBoost Regressor with 97.17% Score"
      ]
    },
    {
      "cell_type": "code",
      "execution_count": 93,
      "id": "cb81768a",
      "metadata": {
        "colab": {
          "base_uri": "https://localhost:8080/"
        },
        "id": "cb81768a",
        "outputId": "a0988600-fecf-461e-f0af-849fe318b795"
      },
      "outputs": [
        {
          "output_type": "stream",
          "name": "stdout",
          "text": [
            "Model saved to shipping_price_model.pkl\n"
          ]
        }
      ],
      "source": [
        "import pickle\n",
        "\n",
        "\n",
        "# Assuming 'model' is your trained model\n",
        "model = models.get('CatBoosting Regressor')\n",
        "# Save the model to a file\n",
        "model_filename = 'shipping_price_model.pkl'\n",
        "with open(model_filename, 'wb') as file:\n",
        "    pickle.dump(model, file)\n",
        "\n",
        "print(f\"Model saved to {model_filename}\")\n"
      ]
    }
  ],
  "metadata": {
    "kernelspec": {
      "display_name": "Python 3",
      "name": "python3"
    },
    "language_info": {
      "codemirror_mode": {
        "name": "ipython",
        "version": 3
      },
      "file_extension": ".py",
      "mimetype": "text/x-python",
      "name": "python",
      "nbconvert_exporter": "python",
      "pygments_lexer": "ipython3",
      "version": "3.8.0"
    },
    "vscode": {
      "interpreter": {
        "hash": "6e0056b0d8d6e142b7ce7d74e16dfdf922dbb0f4299bed7705466a54f7277f59"
      }
    },
    "colab": {
      "provenance": [],
      "gpuType": "T4"
    },
    "accelerator": "GPU"
  },
  "nbformat": 4,
  "nbformat_minor": 5
}